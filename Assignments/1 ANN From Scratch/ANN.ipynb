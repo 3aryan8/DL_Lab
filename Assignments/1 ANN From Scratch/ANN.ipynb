{
 "cells": [
  {
   "cell_type": "code",
   "execution_count": null,
   "id": "011960cb",
   "metadata": {},
   "outputs": [],
   "source": []
  },
  {
   "cell_type": "markdown",
   "id": "86b4f8b5",
   "metadata": {},
   "source": [
    "# Lab Assignment 1:\n",
    "# Handwritten Character Recognition (MNIST) with ANN"
   ]
  },
  {
   "cell_type": "markdown",
   "id": "0211066f",
   "metadata": {},
   "source": [
    "### Objective\n",
    "The goal of this assignment is to build and train a simple Artificial Neural Network (ANN) to (from scratch without any library of framework.) recognize handwritten digits. You will use the classic MNIST dataset, a foundational benchmark in the field of machine learning. By completing this assignment, "
   ]
  },
  {
   "cell_type": "markdown",
   "id": "cccd32d3",
   "metadata": {},
   "source": [
    "### The Dataset: MNIST \n",
    "The MNIST (Modified National Institute of Standards and Technology) dataset is a large \n",
    "collection of handwritten digits. It contains 60,000 training images and 10,000 testing \n",
    "images. Each image is a grayscale picture, 28 pixels wide by 28 pixels high. The digits are \n",
    "from 0 to 9. "
   ]
  },
  {
   "cell_type": "code",
   "execution_count": 5,
   "id": "a07f6628",
   "metadata": {},
   "outputs": [
    {
     "data": {
      "application/vnd.microsoft.datawrangler.viewer.v0+json": {
       "columns": [
        {
         "name": "index",
         "rawType": "int64",
         "type": "integer"
        },
        {
         "name": "label",
         "rawType": "int64",
         "type": "integer"
        },
        {
         "name": "1x1",
         "rawType": "int64",
         "type": "integer"
        },
        {
         "name": "1x2",
         "rawType": "int64",
         "type": "integer"
        },
        {
         "name": "1x3",
         "rawType": "int64",
         "type": "integer"
        },
        {
         "name": "1x4",
         "rawType": "int64",
         "type": "integer"
        },
        {
         "name": "1x5",
         "rawType": "int64",
         "type": "integer"
        },
        {
         "name": "1x6",
         "rawType": "int64",
         "type": "integer"
        },
        {
         "name": "1x7",
         "rawType": "int64",
         "type": "integer"
        },
        {
         "name": "1x8",
         "rawType": "int64",
         "type": "integer"
        },
        {
         "name": "1x9",
         "rawType": "int64",
         "type": "integer"
        },
        {
         "name": "1x10",
         "rawType": "int64",
         "type": "integer"
        },
        {
         "name": "1x11",
         "rawType": "int64",
         "type": "integer"
        },
        {
         "name": "1x12",
         "rawType": "int64",
         "type": "integer"
        },
        {
         "name": "1x13",
         "rawType": "int64",
         "type": "integer"
        },
        {
         "name": "1x14",
         "rawType": "int64",
         "type": "integer"
        },
        {
         "name": "1x15",
         "rawType": "int64",
         "type": "integer"
        },
        {
         "name": "1x16",
         "rawType": "int64",
         "type": "integer"
        },
        {
         "name": "1x17",
         "rawType": "int64",
         "type": "integer"
        },
        {
         "name": "1x18",
         "rawType": "int64",
         "type": "integer"
        },
        {
         "name": "1x19",
         "rawType": "int64",
         "type": "integer"
        },
        {
         "name": "1x20",
         "rawType": "int64",
         "type": "integer"
        },
        {
         "name": "1x21",
         "rawType": "int64",
         "type": "integer"
        },
        {
         "name": "1x22",
         "rawType": "int64",
         "type": "integer"
        },
        {
         "name": "1x23",
         "rawType": "int64",
         "type": "integer"
        },
        {
         "name": "1x24",
         "rawType": "int64",
         "type": "integer"
        },
        {
         "name": "1x25",
         "rawType": "int64",
         "type": "integer"
        },
        {
         "name": "1x26",
         "rawType": "int64",
         "type": "integer"
        },
        {
         "name": "1x27",
         "rawType": "int64",
         "type": "integer"
        },
        {
         "name": "1x28",
         "rawType": "int64",
         "type": "integer"
        },
        {
         "name": "2x1",
         "rawType": "int64",
         "type": "integer"
        },
        {
         "name": "2x2",
         "rawType": "int64",
         "type": "integer"
        },
        {
         "name": "2x3",
         "rawType": "int64",
         "type": "integer"
        },
        {
         "name": "2x4",
         "rawType": "int64",
         "type": "integer"
        },
        {
         "name": "2x5",
         "rawType": "int64",
         "type": "integer"
        },
        {
         "name": "2x6",
         "rawType": "int64",
         "type": "integer"
        },
        {
         "name": "2x7",
         "rawType": "int64",
         "type": "integer"
        },
        {
         "name": "2x8",
         "rawType": "int64",
         "type": "integer"
        },
        {
         "name": "2x9",
         "rawType": "int64",
         "type": "integer"
        },
        {
         "name": "2x10",
         "rawType": "int64",
         "type": "integer"
        },
        {
         "name": "2x11",
         "rawType": "int64",
         "type": "integer"
        },
        {
         "name": "2x12",
         "rawType": "int64",
         "type": "integer"
        },
        {
         "name": "2x13",
         "rawType": "int64",
         "type": "integer"
        },
        {
         "name": "2x14",
         "rawType": "int64",
         "type": "integer"
        },
        {
         "name": "2x15",
         "rawType": "int64",
         "type": "integer"
        },
        {
         "name": "2x16",
         "rawType": "int64",
         "type": "integer"
        },
        {
         "name": "2x17",
         "rawType": "int64",
         "type": "integer"
        },
        {
         "name": "2x18",
         "rawType": "int64",
         "type": "integer"
        },
        {
         "name": "2x19",
         "rawType": "int64",
         "type": "integer"
        },
        {
         "name": "2x20",
         "rawType": "int64",
         "type": "integer"
        },
        {
         "name": "2x21",
         "rawType": "int64",
         "type": "integer"
        },
        {
         "name": "2x22",
         "rawType": "int64",
         "type": "integer"
        },
        {
         "name": "2x23",
         "rawType": "int64",
         "type": "integer"
        },
        {
         "name": "2x24",
         "rawType": "int64",
         "type": "integer"
        },
        {
         "name": "2x25",
         "rawType": "int64",
         "type": "integer"
        },
        {
         "name": "2x26",
         "rawType": "int64",
         "type": "integer"
        },
        {
         "name": "2x27",
         "rawType": "int64",
         "type": "integer"
        },
        {
         "name": "2x28",
         "rawType": "int64",
         "type": "integer"
        },
        {
         "name": "3x1",
         "rawType": "int64",
         "type": "integer"
        },
        {
         "name": "3x2",
         "rawType": "int64",
         "type": "integer"
        },
        {
         "name": "3x3",
         "rawType": "int64",
         "type": "integer"
        },
        {
         "name": "3x4",
         "rawType": "int64",
         "type": "integer"
        },
        {
         "name": "3x5",
         "rawType": "int64",
         "type": "integer"
        },
        {
         "name": "3x6",
         "rawType": "int64",
         "type": "integer"
        },
        {
         "name": "3x7",
         "rawType": "int64",
         "type": "integer"
        },
        {
         "name": "3x8",
         "rawType": "int64",
         "type": "integer"
        },
        {
         "name": "3x9",
         "rawType": "int64",
         "type": "integer"
        },
        {
         "name": "3x10",
         "rawType": "int64",
         "type": "integer"
        },
        {
         "name": "3x11",
         "rawType": "int64",
         "type": "integer"
        },
        {
         "name": "3x12",
         "rawType": "int64",
         "type": "integer"
        },
        {
         "name": "3x13",
         "rawType": "int64",
         "type": "integer"
        },
        {
         "name": "3x14",
         "rawType": "int64",
         "type": "integer"
        },
        {
         "name": "3x15",
         "rawType": "int64",
         "type": "integer"
        },
        {
         "name": "3x16",
         "rawType": "int64",
         "type": "integer"
        },
        {
         "name": "3x17",
         "rawType": "int64",
         "type": "integer"
        },
        {
         "name": "3x18",
         "rawType": "int64",
         "type": "integer"
        },
        {
         "name": "3x19",
         "rawType": "int64",
         "type": "integer"
        },
        {
         "name": "3x20",
         "rawType": "int64",
         "type": "integer"
        },
        {
         "name": "3x21",
         "rawType": "int64",
         "type": "integer"
        },
        {
         "name": "3x22",
         "rawType": "int64",
         "type": "integer"
        },
        {
         "name": "3x23",
         "rawType": "int64",
         "type": "integer"
        },
        {
         "name": "3x24",
         "rawType": "int64",
         "type": "integer"
        },
        {
         "name": "3x25",
         "rawType": "int64",
         "type": "integer"
        },
        {
         "name": "3x26",
         "rawType": "int64",
         "type": "integer"
        },
        {
         "name": "3x27",
         "rawType": "int64",
         "type": "integer"
        },
        {
         "name": "3x28",
         "rawType": "int64",
         "type": "integer"
        },
        {
         "name": "4x1",
         "rawType": "int64",
         "type": "integer"
        },
        {
         "name": "4x2",
         "rawType": "int64",
         "type": "integer"
        },
        {
         "name": "4x3",
         "rawType": "int64",
         "type": "integer"
        },
        {
         "name": "4x4",
         "rawType": "int64",
         "type": "integer"
        },
        {
         "name": "4x5",
         "rawType": "int64",
         "type": "integer"
        },
        {
         "name": "4x6",
         "rawType": "int64",
         "type": "integer"
        },
        {
         "name": "4x7",
         "rawType": "int64",
         "type": "integer"
        },
        {
         "name": "4x8",
         "rawType": "int64",
         "type": "integer"
        },
        {
         "name": "4x9",
         "rawType": "int64",
         "type": "integer"
        },
        {
         "name": "4x10",
         "rawType": "int64",
         "type": "integer"
        },
        {
         "name": "4x11",
         "rawType": "int64",
         "type": "integer"
        },
        {
         "name": "4x12",
         "rawType": "int64",
         "type": "integer"
        },
        {
         "name": "4x13",
         "rawType": "int64",
         "type": "integer"
        },
        {
         "name": "4x14",
         "rawType": "int64",
         "type": "integer"
        },
        {
         "name": "4x15",
         "rawType": "int64",
         "type": "integer"
        },
        {
         "name": "4x16",
         "rawType": "int64",
         "type": "integer"
        },
        {
         "name": "4x17",
         "rawType": "int64",
         "type": "integer"
        },
        {
         "name": "4x18",
         "rawType": "int64",
         "type": "integer"
        },
        {
         "name": "4x19",
         "rawType": "int64",
         "type": "integer"
        },
        {
         "name": "4x20",
         "rawType": "int64",
         "type": "integer"
        },
        {
         "name": "4x21",
         "rawType": "int64",
         "type": "integer"
        },
        {
         "name": "4x22",
         "rawType": "int64",
         "type": "integer"
        },
        {
         "name": "4x23",
         "rawType": "int64",
         "type": "integer"
        },
        {
         "name": "4x24",
         "rawType": "int64",
         "type": "integer"
        },
        {
         "name": "4x25",
         "rawType": "int64",
         "type": "integer"
        },
        {
         "name": "4x26",
         "rawType": "int64",
         "type": "integer"
        },
        {
         "name": "4x27",
         "rawType": "int64",
         "type": "integer"
        },
        {
         "name": "4x28",
         "rawType": "int64",
         "type": "integer"
        },
        {
         "name": "5x1",
         "rawType": "int64",
         "type": "integer"
        },
        {
         "name": "5x2",
         "rawType": "int64",
         "type": "integer"
        },
        {
         "name": "5x3",
         "rawType": "int64",
         "type": "integer"
        },
        {
         "name": "5x4",
         "rawType": "int64",
         "type": "integer"
        },
        {
         "name": "5x5",
         "rawType": "int64",
         "type": "integer"
        },
        {
         "name": "5x6",
         "rawType": "int64",
         "type": "integer"
        },
        {
         "name": "5x7",
         "rawType": "int64",
         "type": "integer"
        },
        {
         "name": "5x8",
         "rawType": "int64",
         "type": "integer"
        },
        {
         "name": "5x9",
         "rawType": "int64",
         "type": "integer"
        },
        {
         "name": "5x10",
         "rawType": "int64",
         "type": "integer"
        },
        {
         "name": "5x11",
         "rawType": "int64",
         "type": "integer"
        },
        {
         "name": "5x12",
         "rawType": "int64",
         "type": "integer"
        },
        {
         "name": "5x13",
         "rawType": "int64",
         "type": "integer"
        },
        {
         "name": "5x14",
         "rawType": "int64",
         "type": "integer"
        },
        {
         "name": "5x15",
         "rawType": "int64",
         "type": "integer"
        },
        {
         "name": "5x16",
         "rawType": "int64",
         "type": "integer"
        },
        {
         "name": "5x17",
         "rawType": "int64",
         "type": "integer"
        },
        {
         "name": "5x18",
         "rawType": "int64",
         "type": "integer"
        },
        {
         "name": "5x19",
         "rawType": "int64",
         "type": "integer"
        },
        {
         "name": "5x20",
         "rawType": "int64",
         "type": "integer"
        },
        {
         "name": "5x21",
         "rawType": "int64",
         "type": "integer"
        },
        {
         "name": "5x22",
         "rawType": "int64",
         "type": "integer"
        },
        {
         "name": "5x23",
         "rawType": "int64",
         "type": "integer"
        },
        {
         "name": "5x24",
         "rawType": "int64",
         "type": "integer"
        },
        {
         "name": "5x25",
         "rawType": "int64",
         "type": "integer"
        },
        {
         "name": "5x26",
         "rawType": "int64",
         "type": "integer"
        },
        {
         "name": "5x27",
         "rawType": "int64",
         "type": "integer"
        },
        {
         "name": "5x28",
         "rawType": "int64",
         "type": "integer"
        },
        {
         "name": "6x1",
         "rawType": "int64",
         "type": "integer"
        },
        {
         "name": "6x2",
         "rawType": "int64",
         "type": "integer"
        },
        {
         "name": "6x3",
         "rawType": "int64",
         "type": "integer"
        },
        {
         "name": "6x4",
         "rawType": "int64",
         "type": "integer"
        },
        {
         "name": "6x5",
         "rawType": "int64",
         "type": "integer"
        },
        {
         "name": "6x6",
         "rawType": "int64",
         "type": "integer"
        },
        {
         "name": "6x7",
         "rawType": "int64",
         "type": "integer"
        },
        {
         "name": "6x8",
         "rawType": "int64",
         "type": "integer"
        },
        {
         "name": "6x9",
         "rawType": "int64",
         "type": "integer"
        },
        {
         "name": "6x10",
         "rawType": "int64",
         "type": "integer"
        },
        {
         "name": "6x11",
         "rawType": "int64",
         "type": "integer"
        },
        {
         "name": "6x12",
         "rawType": "int64",
         "type": "integer"
        },
        {
         "name": "6x13",
         "rawType": "int64",
         "type": "integer"
        },
        {
         "name": "6x14",
         "rawType": "int64",
         "type": "integer"
        },
        {
         "name": "6x15",
         "rawType": "int64",
         "type": "integer"
        },
        {
         "name": "6x16",
         "rawType": "int64",
         "type": "integer"
        },
        {
         "name": "6x17",
         "rawType": "int64",
         "type": "integer"
        },
        {
         "name": "6x18",
         "rawType": "int64",
         "type": "integer"
        },
        {
         "name": "6x19",
         "rawType": "int64",
         "type": "integer"
        },
        {
         "name": "6x20",
         "rawType": "int64",
         "type": "integer"
        },
        {
         "name": "6x21",
         "rawType": "int64",
         "type": "integer"
        },
        {
         "name": "6x22",
         "rawType": "int64",
         "type": "integer"
        },
        {
         "name": "6x23",
         "rawType": "int64",
         "type": "integer"
        },
        {
         "name": "6x24",
         "rawType": "int64",
         "type": "integer"
        },
        {
         "name": "6x25",
         "rawType": "int64",
         "type": "integer"
        },
        {
         "name": "6x26",
         "rawType": "int64",
         "type": "integer"
        },
        {
         "name": "6x27",
         "rawType": "int64",
         "type": "integer"
        },
        {
         "name": "6x28",
         "rawType": "int64",
         "type": "integer"
        },
        {
         "name": "7x1",
         "rawType": "int64",
         "type": "integer"
        },
        {
         "name": "7x2",
         "rawType": "int64",
         "type": "integer"
        },
        {
         "name": "7x3",
         "rawType": "int64",
         "type": "integer"
        },
        {
         "name": "7x4",
         "rawType": "int64",
         "type": "integer"
        },
        {
         "name": "7x5",
         "rawType": "int64",
         "type": "integer"
        },
        {
         "name": "7x6",
         "rawType": "int64",
         "type": "integer"
        },
        {
         "name": "7x7",
         "rawType": "int64",
         "type": "integer"
        },
        {
         "name": "7x8",
         "rawType": "int64",
         "type": "integer"
        },
        {
         "name": "7x9",
         "rawType": "int64",
         "type": "integer"
        },
        {
         "name": "7x10",
         "rawType": "int64",
         "type": "integer"
        },
        {
         "name": "7x11",
         "rawType": "int64",
         "type": "integer"
        },
        {
         "name": "7x12",
         "rawType": "int64",
         "type": "integer"
        },
        {
         "name": "7x13",
         "rawType": "int64",
         "type": "integer"
        },
        {
         "name": "7x14",
         "rawType": "int64",
         "type": "integer"
        },
        {
         "name": "7x15",
         "rawType": "int64",
         "type": "integer"
        },
        {
         "name": "7x16",
         "rawType": "int64",
         "type": "integer"
        },
        {
         "name": "7x17",
         "rawType": "int64",
         "type": "integer"
        },
        {
         "name": "7x18",
         "rawType": "int64",
         "type": "integer"
        },
        {
         "name": "7x19",
         "rawType": "int64",
         "type": "integer"
        },
        {
         "name": "7x20",
         "rawType": "int64",
         "type": "integer"
        },
        {
         "name": "7x21",
         "rawType": "int64",
         "type": "integer"
        },
        {
         "name": "7x22",
         "rawType": "int64",
         "type": "integer"
        },
        {
         "name": "7x23",
         "rawType": "int64",
         "type": "integer"
        },
        {
         "name": "7x24",
         "rawType": "int64",
         "type": "integer"
        },
        {
         "name": "7x25",
         "rawType": "int64",
         "type": "integer"
        },
        {
         "name": "7x26",
         "rawType": "int64",
         "type": "integer"
        },
        {
         "name": "7x27",
         "rawType": "int64",
         "type": "integer"
        },
        {
         "name": "7x28",
         "rawType": "int64",
         "type": "integer"
        },
        {
         "name": "8x1",
         "rawType": "int64",
         "type": "integer"
        },
        {
         "name": "8x2",
         "rawType": "int64",
         "type": "integer"
        },
        {
         "name": "8x3",
         "rawType": "int64",
         "type": "integer"
        },
        {
         "name": "8x4",
         "rawType": "int64",
         "type": "integer"
        },
        {
         "name": "8x5",
         "rawType": "int64",
         "type": "integer"
        },
        {
         "name": "8x6",
         "rawType": "int64",
         "type": "integer"
        },
        {
         "name": "8x7",
         "rawType": "int64",
         "type": "integer"
        },
        {
         "name": "8x8",
         "rawType": "int64",
         "type": "integer"
        },
        {
         "name": "8x9",
         "rawType": "int64",
         "type": "integer"
        },
        {
         "name": "8x10",
         "rawType": "int64",
         "type": "integer"
        },
        {
         "name": "8x11",
         "rawType": "int64",
         "type": "integer"
        },
        {
         "name": "8x12",
         "rawType": "int64",
         "type": "integer"
        },
        {
         "name": "8x13",
         "rawType": "int64",
         "type": "integer"
        },
        {
         "name": "8x14",
         "rawType": "int64",
         "type": "integer"
        },
        {
         "name": "8x15",
         "rawType": "int64",
         "type": "integer"
        },
        {
         "name": "8x16",
         "rawType": "int64",
         "type": "integer"
        },
        {
         "name": "8x17",
         "rawType": "int64",
         "type": "integer"
        },
        {
         "name": "8x18",
         "rawType": "int64",
         "type": "integer"
        },
        {
         "name": "8x19",
         "rawType": "int64",
         "type": "integer"
        },
        {
         "name": "8x20",
         "rawType": "int64",
         "type": "integer"
        },
        {
         "name": "8x21",
         "rawType": "int64",
         "type": "integer"
        },
        {
         "name": "8x22",
         "rawType": "int64",
         "type": "integer"
        },
        {
         "name": "8x23",
         "rawType": "int64",
         "type": "integer"
        },
        {
         "name": "8x24",
         "rawType": "int64",
         "type": "integer"
        },
        {
         "name": "8x25",
         "rawType": "int64",
         "type": "integer"
        },
        {
         "name": "8x26",
         "rawType": "int64",
         "type": "integer"
        },
        {
         "name": "8x27",
         "rawType": "int64",
         "type": "integer"
        },
        {
         "name": "8x28",
         "rawType": "int64",
         "type": "integer"
        },
        {
         "name": "9x1",
         "rawType": "int64",
         "type": "integer"
        },
        {
         "name": "9x2",
         "rawType": "int64",
         "type": "integer"
        },
        {
         "name": "9x3",
         "rawType": "int64",
         "type": "integer"
        },
        {
         "name": "9x4",
         "rawType": "int64",
         "type": "integer"
        },
        {
         "name": "9x5",
         "rawType": "int64",
         "type": "integer"
        },
        {
         "name": "9x6",
         "rawType": "int64",
         "type": "integer"
        },
        {
         "name": "9x7",
         "rawType": "int64",
         "type": "integer"
        },
        {
         "name": "9x8",
         "rawType": "int64",
         "type": "integer"
        },
        {
         "name": "9x9",
         "rawType": "int64",
         "type": "integer"
        },
        {
         "name": "9x10",
         "rawType": "int64",
         "type": "integer"
        },
        {
         "name": "9x11",
         "rawType": "int64",
         "type": "integer"
        },
        {
         "name": "9x12",
         "rawType": "int64",
         "type": "integer"
        },
        {
         "name": "9x13",
         "rawType": "int64",
         "type": "integer"
        },
        {
         "name": "9x14",
         "rawType": "int64",
         "type": "integer"
        },
        {
         "name": "9x15",
         "rawType": "int64",
         "type": "integer"
        },
        {
         "name": "9x16",
         "rawType": "int64",
         "type": "integer"
        },
        {
         "name": "9x17",
         "rawType": "int64",
         "type": "integer"
        },
        {
         "name": "9x18",
         "rawType": "int64",
         "type": "integer"
        },
        {
         "name": "9x19",
         "rawType": "int64",
         "type": "integer"
        },
        {
         "name": "9x20",
         "rawType": "int64",
         "type": "integer"
        },
        {
         "name": "9x21",
         "rawType": "int64",
         "type": "integer"
        },
        {
         "name": "9x22",
         "rawType": "int64",
         "type": "integer"
        },
        {
         "name": "9x23",
         "rawType": "int64",
         "type": "integer"
        },
        {
         "name": "9x24",
         "rawType": "int64",
         "type": "integer"
        },
        {
         "name": "9x25",
         "rawType": "int64",
         "type": "integer"
        },
        {
         "name": "9x26",
         "rawType": "int64",
         "type": "integer"
        },
        {
         "name": "9x27",
         "rawType": "int64",
         "type": "integer"
        },
        {
         "name": "9x28",
         "rawType": "int64",
         "type": "integer"
        },
        {
         "name": "10x1",
         "rawType": "int64",
         "type": "integer"
        },
        {
         "name": "10x2",
         "rawType": "int64",
         "type": "integer"
        },
        {
         "name": "10x3",
         "rawType": "int64",
         "type": "integer"
        },
        {
         "name": "10x4",
         "rawType": "int64",
         "type": "integer"
        },
        {
         "name": "10x5",
         "rawType": "int64",
         "type": "integer"
        },
        {
         "name": "10x6",
         "rawType": "int64",
         "type": "integer"
        },
        {
         "name": "10x7",
         "rawType": "int64",
         "type": "integer"
        },
        {
         "name": "10x8",
         "rawType": "int64",
         "type": "integer"
        },
        {
         "name": "10x9",
         "rawType": "int64",
         "type": "integer"
        },
        {
         "name": "10x10",
         "rawType": "int64",
         "type": "integer"
        },
        {
         "name": "10x11",
         "rawType": "int64",
         "type": "integer"
        },
        {
         "name": "10x12",
         "rawType": "int64",
         "type": "integer"
        },
        {
         "name": "10x13",
         "rawType": "int64",
         "type": "integer"
        },
        {
         "name": "10x14",
         "rawType": "int64",
         "type": "integer"
        },
        {
         "name": "10x15",
         "rawType": "int64",
         "type": "integer"
        },
        {
         "name": "10x16",
         "rawType": "int64",
         "type": "integer"
        },
        {
         "name": "10x17",
         "rawType": "int64",
         "type": "integer"
        },
        {
         "name": "10x18",
         "rawType": "int64",
         "type": "integer"
        },
        {
         "name": "10x19",
         "rawType": "int64",
         "type": "integer"
        },
        {
         "name": "10x20",
         "rawType": "int64",
         "type": "integer"
        },
        {
         "name": "10x21",
         "rawType": "int64",
         "type": "integer"
        },
        {
         "name": "10x22",
         "rawType": "int64",
         "type": "integer"
        },
        {
         "name": "10x23",
         "rawType": "int64",
         "type": "integer"
        },
        {
         "name": "10x24",
         "rawType": "int64",
         "type": "integer"
        },
        {
         "name": "10x25",
         "rawType": "int64",
         "type": "integer"
        },
        {
         "name": "10x26",
         "rawType": "int64",
         "type": "integer"
        },
        {
         "name": "10x27",
         "rawType": "int64",
         "type": "integer"
        },
        {
         "name": "10x28",
         "rawType": "int64",
         "type": "integer"
        },
        {
         "name": "11x1",
         "rawType": "int64",
         "type": "integer"
        },
        {
         "name": "11x2",
         "rawType": "int64",
         "type": "integer"
        },
        {
         "name": "11x3",
         "rawType": "int64",
         "type": "integer"
        },
        {
         "name": "11x4",
         "rawType": "int64",
         "type": "integer"
        },
        {
         "name": "11x5",
         "rawType": "int64",
         "type": "integer"
        },
        {
         "name": "11x6",
         "rawType": "int64",
         "type": "integer"
        },
        {
         "name": "11x7",
         "rawType": "int64",
         "type": "integer"
        },
        {
         "name": "11x8",
         "rawType": "int64",
         "type": "integer"
        },
        {
         "name": "11x9",
         "rawType": "int64",
         "type": "integer"
        },
        {
         "name": "11x10",
         "rawType": "int64",
         "type": "integer"
        },
        {
         "name": "11x11",
         "rawType": "int64",
         "type": "integer"
        },
        {
         "name": "11x12",
         "rawType": "int64",
         "type": "integer"
        },
        {
         "name": "11x13",
         "rawType": "int64",
         "type": "integer"
        },
        {
         "name": "11x14",
         "rawType": "int64",
         "type": "integer"
        },
        {
         "name": "11x15",
         "rawType": "int64",
         "type": "integer"
        },
        {
         "name": "11x16",
         "rawType": "int64",
         "type": "integer"
        },
        {
         "name": "11x17",
         "rawType": "int64",
         "type": "integer"
        },
        {
         "name": "11x18",
         "rawType": "int64",
         "type": "integer"
        },
        {
         "name": "11x19",
         "rawType": "int64",
         "type": "integer"
        },
        {
         "name": "11x20",
         "rawType": "int64",
         "type": "integer"
        },
        {
         "name": "11x21",
         "rawType": "int64",
         "type": "integer"
        },
        {
         "name": "11x22",
         "rawType": "int64",
         "type": "integer"
        },
        {
         "name": "11x23",
         "rawType": "int64",
         "type": "integer"
        },
        {
         "name": "11x24",
         "rawType": "int64",
         "type": "integer"
        },
        {
         "name": "11x25",
         "rawType": "int64",
         "type": "integer"
        },
        {
         "name": "11x26",
         "rawType": "int64",
         "type": "integer"
        },
        {
         "name": "11x27",
         "rawType": "int64",
         "type": "integer"
        },
        {
         "name": "11x28",
         "rawType": "int64",
         "type": "integer"
        },
        {
         "name": "12x1",
         "rawType": "int64",
         "type": "integer"
        },
        {
         "name": "12x2",
         "rawType": "int64",
         "type": "integer"
        },
        {
         "name": "12x3",
         "rawType": "int64",
         "type": "integer"
        },
        {
         "name": "12x4",
         "rawType": "int64",
         "type": "integer"
        },
        {
         "name": "12x5",
         "rawType": "int64",
         "type": "integer"
        },
        {
         "name": "12x6",
         "rawType": "int64",
         "type": "integer"
        },
        {
         "name": "12x7",
         "rawType": "int64",
         "type": "integer"
        },
        {
         "name": "12x8",
         "rawType": "int64",
         "type": "integer"
        },
        {
         "name": "12x9",
         "rawType": "int64",
         "type": "integer"
        },
        {
         "name": "12x10",
         "rawType": "int64",
         "type": "integer"
        },
        {
         "name": "12x11",
         "rawType": "int64",
         "type": "integer"
        },
        {
         "name": "12x12",
         "rawType": "int64",
         "type": "integer"
        },
        {
         "name": "12x13",
         "rawType": "int64",
         "type": "integer"
        },
        {
         "name": "12x14",
         "rawType": "int64",
         "type": "integer"
        },
        {
         "name": "12x15",
         "rawType": "int64",
         "type": "integer"
        },
        {
         "name": "12x16",
         "rawType": "int64",
         "type": "integer"
        },
        {
         "name": "12x17",
         "rawType": "int64",
         "type": "integer"
        },
        {
         "name": "12x18",
         "rawType": "int64",
         "type": "integer"
        },
        {
         "name": "12x19",
         "rawType": "int64",
         "type": "integer"
        },
        {
         "name": "12x20",
         "rawType": "int64",
         "type": "integer"
        },
        {
         "name": "12x21",
         "rawType": "int64",
         "type": "integer"
        },
        {
         "name": "12x22",
         "rawType": "int64",
         "type": "integer"
        },
        {
         "name": "12x23",
         "rawType": "int64",
         "type": "integer"
        },
        {
         "name": "12x24",
         "rawType": "int64",
         "type": "integer"
        },
        {
         "name": "12x25",
         "rawType": "int64",
         "type": "integer"
        },
        {
         "name": "12x26",
         "rawType": "int64",
         "type": "integer"
        },
        {
         "name": "12x27",
         "rawType": "int64",
         "type": "integer"
        },
        {
         "name": "12x28",
         "rawType": "int64",
         "type": "integer"
        },
        {
         "name": "13x1",
         "rawType": "int64",
         "type": "integer"
        },
        {
         "name": "13x2",
         "rawType": "int64",
         "type": "integer"
        },
        {
         "name": "13x3",
         "rawType": "int64",
         "type": "integer"
        },
        {
         "name": "13x4",
         "rawType": "int64",
         "type": "integer"
        },
        {
         "name": "13x5",
         "rawType": "int64",
         "type": "integer"
        },
        {
         "name": "13x6",
         "rawType": "int64",
         "type": "integer"
        },
        {
         "name": "13x7",
         "rawType": "int64",
         "type": "integer"
        },
        {
         "name": "13x8",
         "rawType": "int64",
         "type": "integer"
        },
        {
         "name": "13x9",
         "rawType": "int64",
         "type": "integer"
        },
        {
         "name": "13x10",
         "rawType": "int64",
         "type": "integer"
        },
        {
         "name": "13x11",
         "rawType": "int64",
         "type": "integer"
        },
        {
         "name": "13x12",
         "rawType": "int64",
         "type": "integer"
        },
        {
         "name": "13x13",
         "rawType": "int64",
         "type": "integer"
        },
        {
         "name": "13x14",
         "rawType": "int64",
         "type": "integer"
        },
        {
         "name": "13x15",
         "rawType": "int64",
         "type": "integer"
        },
        {
         "name": "13x16",
         "rawType": "int64",
         "type": "integer"
        },
        {
         "name": "13x17",
         "rawType": "int64",
         "type": "integer"
        },
        {
         "name": "13x18",
         "rawType": "int64",
         "type": "integer"
        },
        {
         "name": "13x19",
         "rawType": "int64",
         "type": "integer"
        },
        {
         "name": "13x20",
         "rawType": "int64",
         "type": "integer"
        },
        {
         "name": "13x21",
         "rawType": "int64",
         "type": "integer"
        },
        {
         "name": "13x22",
         "rawType": "int64",
         "type": "integer"
        },
        {
         "name": "13x23",
         "rawType": "int64",
         "type": "integer"
        },
        {
         "name": "13x24",
         "rawType": "int64",
         "type": "integer"
        },
        {
         "name": "13x25",
         "rawType": "int64",
         "type": "integer"
        },
        {
         "name": "13x26",
         "rawType": "int64",
         "type": "integer"
        },
        {
         "name": "13x27",
         "rawType": "int64",
         "type": "integer"
        },
        {
         "name": "13x28",
         "rawType": "int64",
         "type": "integer"
        },
        {
         "name": "14x1",
         "rawType": "int64",
         "type": "integer"
        },
        {
         "name": "14x2",
         "rawType": "int64",
         "type": "integer"
        },
        {
         "name": "14x3",
         "rawType": "int64",
         "type": "integer"
        },
        {
         "name": "14x4",
         "rawType": "int64",
         "type": "integer"
        },
        {
         "name": "14x5",
         "rawType": "int64",
         "type": "integer"
        },
        {
         "name": "14x6",
         "rawType": "int64",
         "type": "integer"
        },
        {
         "name": "14x7",
         "rawType": "int64",
         "type": "integer"
        },
        {
         "name": "14x8",
         "rawType": "int64",
         "type": "integer"
        },
        {
         "name": "14x9",
         "rawType": "int64",
         "type": "integer"
        },
        {
         "name": "14x10",
         "rawType": "int64",
         "type": "integer"
        },
        {
         "name": "14x11",
         "rawType": "int64",
         "type": "integer"
        },
        {
         "name": "14x12",
         "rawType": "int64",
         "type": "integer"
        },
        {
         "name": "14x13",
         "rawType": "int64",
         "type": "integer"
        },
        {
         "name": "14x14",
         "rawType": "int64",
         "type": "integer"
        },
        {
         "name": "14x15",
         "rawType": "int64",
         "type": "integer"
        },
        {
         "name": "14x16",
         "rawType": "int64",
         "type": "integer"
        },
        {
         "name": "14x17",
         "rawType": "int64",
         "type": "integer"
        },
        {
         "name": "14x18",
         "rawType": "int64",
         "type": "integer"
        },
        {
         "name": "14x19",
         "rawType": "int64",
         "type": "integer"
        },
        {
         "name": "14x20",
         "rawType": "int64",
         "type": "integer"
        },
        {
         "name": "14x21",
         "rawType": "int64",
         "type": "integer"
        },
        {
         "name": "14x22",
         "rawType": "int64",
         "type": "integer"
        },
        {
         "name": "14x23",
         "rawType": "int64",
         "type": "integer"
        },
        {
         "name": "14x24",
         "rawType": "int64",
         "type": "integer"
        },
        {
         "name": "14x25",
         "rawType": "int64",
         "type": "integer"
        },
        {
         "name": "14x26",
         "rawType": "int64",
         "type": "integer"
        },
        {
         "name": "14x27",
         "rawType": "int64",
         "type": "integer"
        },
        {
         "name": "14x28",
         "rawType": "int64",
         "type": "integer"
        },
        {
         "name": "15x1",
         "rawType": "int64",
         "type": "integer"
        },
        {
         "name": "15x2",
         "rawType": "int64",
         "type": "integer"
        },
        {
         "name": "15x3",
         "rawType": "int64",
         "type": "integer"
        },
        {
         "name": "15x4",
         "rawType": "int64",
         "type": "integer"
        },
        {
         "name": "15x5",
         "rawType": "int64",
         "type": "integer"
        },
        {
         "name": "15x6",
         "rawType": "int64",
         "type": "integer"
        },
        {
         "name": "15x7",
         "rawType": "int64",
         "type": "integer"
        },
        {
         "name": "15x8",
         "rawType": "int64",
         "type": "integer"
        },
        {
         "name": "15x9",
         "rawType": "int64",
         "type": "integer"
        },
        {
         "name": "15x10",
         "rawType": "int64",
         "type": "integer"
        },
        {
         "name": "15x11",
         "rawType": "int64",
         "type": "integer"
        },
        {
         "name": "15x12",
         "rawType": "int64",
         "type": "integer"
        },
        {
         "name": "15x13",
         "rawType": "int64",
         "type": "integer"
        },
        {
         "name": "15x14",
         "rawType": "int64",
         "type": "integer"
        },
        {
         "name": "15x15",
         "rawType": "int64",
         "type": "integer"
        },
        {
         "name": "15x16",
         "rawType": "int64",
         "type": "integer"
        },
        {
         "name": "15x17",
         "rawType": "int64",
         "type": "integer"
        },
        {
         "name": "15x18",
         "rawType": "int64",
         "type": "integer"
        },
        {
         "name": "15x19",
         "rawType": "int64",
         "type": "integer"
        },
        {
         "name": "15x20",
         "rawType": "int64",
         "type": "integer"
        },
        {
         "name": "15x21",
         "rawType": "int64",
         "type": "integer"
        },
        {
         "name": "15x22",
         "rawType": "int64",
         "type": "integer"
        },
        {
         "name": "15x23",
         "rawType": "int64",
         "type": "integer"
        },
        {
         "name": "15x24",
         "rawType": "int64",
         "type": "integer"
        },
        {
         "name": "15x25",
         "rawType": "int64",
         "type": "integer"
        },
        {
         "name": "15x26",
         "rawType": "int64",
         "type": "integer"
        },
        {
         "name": "15x27",
         "rawType": "int64",
         "type": "integer"
        },
        {
         "name": "15x28",
         "rawType": "int64",
         "type": "integer"
        },
        {
         "name": "16x1",
         "rawType": "int64",
         "type": "integer"
        },
        {
         "name": "16x2",
         "rawType": "int64",
         "type": "integer"
        },
        {
         "name": "16x3",
         "rawType": "int64",
         "type": "integer"
        },
        {
         "name": "16x4",
         "rawType": "int64",
         "type": "integer"
        },
        {
         "name": "16x5",
         "rawType": "int64",
         "type": "integer"
        },
        {
         "name": "16x6",
         "rawType": "int64",
         "type": "integer"
        },
        {
         "name": "16x7",
         "rawType": "int64",
         "type": "integer"
        },
        {
         "name": "16x8",
         "rawType": "int64",
         "type": "integer"
        },
        {
         "name": "16x9",
         "rawType": "int64",
         "type": "integer"
        },
        {
         "name": "16x10",
         "rawType": "int64",
         "type": "integer"
        },
        {
         "name": "16x11",
         "rawType": "int64",
         "type": "integer"
        },
        {
         "name": "16x12",
         "rawType": "int64",
         "type": "integer"
        },
        {
         "name": "16x13",
         "rawType": "int64",
         "type": "integer"
        },
        {
         "name": "16x14",
         "rawType": "int64",
         "type": "integer"
        },
        {
         "name": "16x15",
         "rawType": "int64",
         "type": "integer"
        },
        {
         "name": "16x16",
         "rawType": "int64",
         "type": "integer"
        },
        {
         "name": "16x17",
         "rawType": "int64",
         "type": "integer"
        },
        {
         "name": "16x18",
         "rawType": "int64",
         "type": "integer"
        },
        {
         "name": "16x19",
         "rawType": "int64",
         "type": "integer"
        },
        {
         "name": "16x20",
         "rawType": "int64",
         "type": "integer"
        },
        {
         "name": "16x21",
         "rawType": "int64",
         "type": "integer"
        },
        {
         "name": "16x22",
         "rawType": "int64",
         "type": "integer"
        },
        {
         "name": "16x23",
         "rawType": "int64",
         "type": "integer"
        },
        {
         "name": "16x24",
         "rawType": "int64",
         "type": "integer"
        },
        {
         "name": "16x25",
         "rawType": "int64",
         "type": "integer"
        },
        {
         "name": "16x26",
         "rawType": "int64",
         "type": "integer"
        },
        {
         "name": "16x27",
         "rawType": "int64",
         "type": "integer"
        },
        {
         "name": "16x28",
         "rawType": "int64",
         "type": "integer"
        },
        {
         "name": "17x1",
         "rawType": "int64",
         "type": "integer"
        },
        {
         "name": "17x2",
         "rawType": "int64",
         "type": "integer"
        },
        {
         "name": "17x3",
         "rawType": "int64",
         "type": "integer"
        },
        {
         "name": "17x4",
         "rawType": "int64",
         "type": "integer"
        },
        {
         "name": "17x5",
         "rawType": "int64",
         "type": "integer"
        },
        {
         "name": "17x6",
         "rawType": "int64",
         "type": "integer"
        },
        {
         "name": "17x7",
         "rawType": "int64",
         "type": "integer"
        },
        {
         "name": "17x8",
         "rawType": "int64",
         "type": "integer"
        },
        {
         "name": "17x9",
         "rawType": "int64",
         "type": "integer"
        },
        {
         "name": "17x10",
         "rawType": "int64",
         "type": "integer"
        },
        {
         "name": "17x11",
         "rawType": "int64",
         "type": "integer"
        },
        {
         "name": "17x12",
         "rawType": "int64",
         "type": "integer"
        },
        {
         "name": "17x13",
         "rawType": "int64",
         "type": "integer"
        },
        {
         "name": "17x14",
         "rawType": "int64",
         "type": "integer"
        },
        {
         "name": "17x15",
         "rawType": "int64",
         "type": "integer"
        },
        {
         "name": "17x16",
         "rawType": "int64",
         "type": "integer"
        },
        {
         "name": "17x17",
         "rawType": "int64",
         "type": "integer"
        },
        {
         "name": "17x18",
         "rawType": "int64",
         "type": "integer"
        },
        {
         "name": "17x19",
         "rawType": "int64",
         "type": "integer"
        },
        {
         "name": "17x20",
         "rawType": "int64",
         "type": "integer"
        },
        {
         "name": "17x21",
         "rawType": "int64",
         "type": "integer"
        },
        {
         "name": "17x22",
         "rawType": "int64",
         "type": "integer"
        },
        {
         "name": "17x23",
         "rawType": "int64",
         "type": "integer"
        },
        {
         "name": "17x24",
         "rawType": "int64",
         "type": "integer"
        },
        {
         "name": "17x25",
         "rawType": "int64",
         "type": "integer"
        },
        {
         "name": "17x26",
         "rawType": "int64",
         "type": "integer"
        },
        {
         "name": "17x27",
         "rawType": "int64",
         "type": "integer"
        },
        {
         "name": "17x28",
         "rawType": "int64",
         "type": "integer"
        },
        {
         "name": "18x1",
         "rawType": "int64",
         "type": "integer"
        },
        {
         "name": "18x2",
         "rawType": "int64",
         "type": "integer"
        },
        {
         "name": "18x3",
         "rawType": "int64",
         "type": "integer"
        },
        {
         "name": "18x4",
         "rawType": "int64",
         "type": "integer"
        },
        {
         "name": "18x5",
         "rawType": "int64",
         "type": "integer"
        },
        {
         "name": "18x6",
         "rawType": "int64",
         "type": "integer"
        },
        {
         "name": "18x7",
         "rawType": "int64",
         "type": "integer"
        },
        {
         "name": "18x8",
         "rawType": "int64",
         "type": "integer"
        },
        {
         "name": "18x9",
         "rawType": "int64",
         "type": "integer"
        },
        {
         "name": "18x10",
         "rawType": "int64",
         "type": "integer"
        },
        {
         "name": "18x11",
         "rawType": "int64",
         "type": "integer"
        },
        {
         "name": "18x12",
         "rawType": "int64",
         "type": "integer"
        },
        {
         "name": "18x13",
         "rawType": "int64",
         "type": "integer"
        },
        {
         "name": "18x14",
         "rawType": "int64",
         "type": "integer"
        },
        {
         "name": "18x15",
         "rawType": "int64",
         "type": "integer"
        },
        {
         "name": "18x16",
         "rawType": "int64",
         "type": "integer"
        },
        {
         "name": "18x17",
         "rawType": "int64",
         "type": "integer"
        },
        {
         "name": "18x18",
         "rawType": "int64",
         "type": "integer"
        },
        {
         "name": "18x19",
         "rawType": "int64",
         "type": "integer"
        },
        {
         "name": "18x20",
         "rawType": "int64",
         "type": "integer"
        },
        {
         "name": "18x21",
         "rawType": "int64",
         "type": "integer"
        },
        {
         "name": "18x22",
         "rawType": "int64",
         "type": "integer"
        },
        {
         "name": "18x23",
         "rawType": "int64",
         "type": "integer"
        },
        {
         "name": "18x24",
         "rawType": "int64",
         "type": "integer"
        },
        {
         "name": "18x25",
         "rawType": "int64",
         "type": "integer"
        },
        {
         "name": "18x26",
         "rawType": "int64",
         "type": "integer"
        },
        {
         "name": "18x27",
         "rawType": "int64",
         "type": "integer"
        },
        {
         "name": "18x28",
         "rawType": "int64",
         "type": "integer"
        },
        {
         "name": "19x1",
         "rawType": "int64",
         "type": "integer"
        },
        {
         "name": "19x2",
         "rawType": "int64",
         "type": "integer"
        },
        {
         "name": "19x3",
         "rawType": "int64",
         "type": "integer"
        },
        {
         "name": "19x4",
         "rawType": "int64",
         "type": "integer"
        },
        {
         "name": "19x5",
         "rawType": "int64",
         "type": "integer"
        },
        {
         "name": "19x6",
         "rawType": "int64",
         "type": "integer"
        },
        {
         "name": "19x7",
         "rawType": "int64",
         "type": "integer"
        },
        {
         "name": "19x8",
         "rawType": "int64",
         "type": "integer"
        },
        {
         "name": "19x9",
         "rawType": "int64",
         "type": "integer"
        },
        {
         "name": "19x10",
         "rawType": "int64",
         "type": "integer"
        },
        {
         "name": "19x11",
         "rawType": "int64",
         "type": "integer"
        },
        {
         "name": "19x12",
         "rawType": "int64",
         "type": "integer"
        },
        {
         "name": "19x13",
         "rawType": "int64",
         "type": "integer"
        },
        {
         "name": "19x14",
         "rawType": "int64",
         "type": "integer"
        },
        {
         "name": "19x15",
         "rawType": "int64",
         "type": "integer"
        },
        {
         "name": "19x16",
         "rawType": "int64",
         "type": "integer"
        },
        {
         "name": "19x17",
         "rawType": "int64",
         "type": "integer"
        },
        {
         "name": "19x18",
         "rawType": "int64",
         "type": "integer"
        },
        {
         "name": "19x19",
         "rawType": "int64",
         "type": "integer"
        },
        {
         "name": "19x20",
         "rawType": "int64",
         "type": "integer"
        },
        {
         "name": "19x21",
         "rawType": "int64",
         "type": "integer"
        },
        {
         "name": "19x22",
         "rawType": "int64",
         "type": "integer"
        },
        {
         "name": "19x23",
         "rawType": "int64",
         "type": "integer"
        },
        {
         "name": "19x24",
         "rawType": "int64",
         "type": "integer"
        },
        {
         "name": "19x25",
         "rawType": "int64",
         "type": "integer"
        },
        {
         "name": "19x26",
         "rawType": "int64",
         "type": "integer"
        },
        {
         "name": "19x27",
         "rawType": "int64",
         "type": "integer"
        },
        {
         "name": "19x28",
         "rawType": "int64",
         "type": "integer"
        },
        {
         "name": "20x1",
         "rawType": "int64",
         "type": "integer"
        },
        {
         "name": "20x2",
         "rawType": "int64",
         "type": "integer"
        },
        {
         "name": "20x3",
         "rawType": "int64",
         "type": "integer"
        },
        {
         "name": "20x4",
         "rawType": "int64",
         "type": "integer"
        },
        {
         "name": "20x5",
         "rawType": "int64",
         "type": "integer"
        },
        {
         "name": "20x6",
         "rawType": "int64",
         "type": "integer"
        },
        {
         "name": "20x7",
         "rawType": "int64",
         "type": "integer"
        },
        {
         "name": "20x8",
         "rawType": "int64",
         "type": "integer"
        },
        {
         "name": "20x9",
         "rawType": "int64",
         "type": "integer"
        },
        {
         "name": "20x10",
         "rawType": "int64",
         "type": "integer"
        },
        {
         "name": "20x11",
         "rawType": "int64",
         "type": "integer"
        },
        {
         "name": "20x12",
         "rawType": "int64",
         "type": "integer"
        },
        {
         "name": "20x13",
         "rawType": "int64",
         "type": "integer"
        },
        {
         "name": "20x14",
         "rawType": "int64",
         "type": "integer"
        },
        {
         "name": "20x15",
         "rawType": "int64",
         "type": "integer"
        },
        {
         "name": "20x16",
         "rawType": "int64",
         "type": "integer"
        },
        {
         "name": "20x17",
         "rawType": "int64",
         "type": "integer"
        },
        {
         "name": "20x18",
         "rawType": "int64",
         "type": "integer"
        },
        {
         "name": "20x19",
         "rawType": "int64",
         "type": "integer"
        },
        {
         "name": "20x20",
         "rawType": "int64",
         "type": "integer"
        },
        {
         "name": "20x21",
         "rawType": "int64",
         "type": "integer"
        },
        {
         "name": "20x22",
         "rawType": "int64",
         "type": "integer"
        },
        {
         "name": "20x23",
         "rawType": "int64",
         "type": "integer"
        },
        {
         "name": "20x24",
         "rawType": "int64",
         "type": "integer"
        },
        {
         "name": "20x25",
         "rawType": "int64",
         "type": "integer"
        },
        {
         "name": "20x26",
         "rawType": "int64",
         "type": "integer"
        },
        {
         "name": "20x27",
         "rawType": "int64",
         "type": "integer"
        },
        {
         "name": "20x28",
         "rawType": "int64",
         "type": "integer"
        },
        {
         "name": "21x1",
         "rawType": "int64",
         "type": "integer"
        },
        {
         "name": "21x2",
         "rawType": "int64",
         "type": "integer"
        },
        {
         "name": "21x3",
         "rawType": "int64",
         "type": "integer"
        },
        {
         "name": "21x4",
         "rawType": "int64",
         "type": "integer"
        },
        {
         "name": "21x5",
         "rawType": "int64",
         "type": "integer"
        },
        {
         "name": "21x6",
         "rawType": "int64",
         "type": "integer"
        },
        {
         "name": "21x7",
         "rawType": "int64",
         "type": "integer"
        },
        {
         "name": "21x8",
         "rawType": "int64",
         "type": "integer"
        },
        {
         "name": "21x9",
         "rawType": "int64",
         "type": "integer"
        },
        {
         "name": "21x10",
         "rawType": "int64",
         "type": "integer"
        },
        {
         "name": "21x11",
         "rawType": "int64",
         "type": "integer"
        },
        {
         "name": "21x12",
         "rawType": "int64",
         "type": "integer"
        },
        {
         "name": "21x13",
         "rawType": "int64",
         "type": "integer"
        },
        {
         "name": "21x14",
         "rawType": "int64",
         "type": "integer"
        },
        {
         "name": "21x15",
         "rawType": "int64",
         "type": "integer"
        },
        {
         "name": "21x16",
         "rawType": "int64",
         "type": "integer"
        },
        {
         "name": "21x17",
         "rawType": "int64",
         "type": "integer"
        },
        {
         "name": "21x18",
         "rawType": "int64",
         "type": "integer"
        },
        {
         "name": "21x19",
         "rawType": "int64",
         "type": "integer"
        },
        {
         "name": "21x20",
         "rawType": "int64",
         "type": "integer"
        },
        {
         "name": "21x21",
         "rawType": "int64",
         "type": "integer"
        },
        {
         "name": "21x22",
         "rawType": "int64",
         "type": "integer"
        },
        {
         "name": "21x23",
         "rawType": "int64",
         "type": "integer"
        },
        {
         "name": "21x24",
         "rawType": "int64",
         "type": "integer"
        },
        {
         "name": "21x25",
         "rawType": "int64",
         "type": "integer"
        },
        {
         "name": "21x26",
         "rawType": "int64",
         "type": "integer"
        },
        {
         "name": "21x27",
         "rawType": "int64",
         "type": "integer"
        },
        {
         "name": "21x28",
         "rawType": "int64",
         "type": "integer"
        },
        {
         "name": "22x1",
         "rawType": "int64",
         "type": "integer"
        },
        {
         "name": "22x2",
         "rawType": "int64",
         "type": "integer"
        },
        {
         "name": "22x3",
         "rawType": "int64",
         "type": "integer"
        },
        {
         "name": "22x4",
         "rawType": "int64",
         "type": "integer"
        },
        {
         "name": "22x5",
         "rawType": "int64",
         "type": "integer"
        },
        {
         "name": "22x6",
         "rawType": "int64",
         "type": "integer"
        },
        {
         "name": "22x7",
         "rawType": "int64",
         "type": "integer"
        },
        {
         "name": "22x8",
         "rawType": "int64",
         "type": "integer"
        },
        {
         "name": "22x9",
         "rawType": "int64",
         "type": "integer"
        },
        {
         "name": "22x10",
         "rawType": "int64",
         "type": "integer"
        },
        {
         "name": "22x11",
         "rawType": "int64",
         "type": "integer"
        },
        {
         "name": "22x12",
         "rawType": "int64",
         "type": "integer"
        },
        {
         "name": "22x13",
         "rawType": "int64",
         "type": "integer"
        },
        {
         "name": "22x14",
         "rawType": "int64",
         "type": "integer"
        },
        {
         "name": "22x15",
         "rawType": "int64",
         "type": "integer"
        },
        {
         "name": "22x16",
         "rawType": "int64",
         "type": "integer"
        },
        {
         "name": "22x17",
         "rawType": "int64",
         "type": "integer"
        },
        {
         "name": "22x18",
         "rawType": "int64",
         "type": "integer"
        },
        {
         "name": "22x19",
         "rawType": "int64",
         "type": "integer"
        },
        {
         "name": "22x20",
         "rawType": "int64",
         "type": "integer"
        },
        {
         "name": "22x21",
         "rawType": "int64",
         "type": "integer"
        },
        {
         "name": "22x22",
         "rawType": "int64",
         "type": "integer"
        },
        {
         "name": "22x23",
         "rawType": "int64",
         "type": "integer"
        },
        {
         "name": "22x24",
         "rawType": "int64",
         "type": "integer"
        },
        {
         "name": "22x25",
         "rawType": "int64",
         "type": "integer"
        },
        {
         "name": "22x26",
         "rawType": "int64",
         "type": "integer"
        },
        {
         "name": "22x27",
         "rawType": "int64",
         "type": "integer"
        },
        {
         "name": "22x28",
         "rawType": "int64",
         "type": "integer"
        },
        {
         "name": "23x1",
         "rawType": "int64",
         "type": "integer"
        },
        {
         "name": "23x2",
         "rawType": "int64",
         "type": "integer"
        },
        {
         "name": "23x3",
         "rawType": "int64",
         "type": "integer"
        },
        {
         "name": "23x4",
         "rawType": "int64",
         "type": "integer"
        },
        {
         "name": "23x5",
         "rawType": "int64",
         "type": "integer"
        },
        {
         "name": "23x6",
         "rawType": "int64",
         "type": "integer"
        },
        {
         "name": "23x7",
         "rawType": "int64",
         "type": "integer"
        },
        {
         "name": "23x8",
         "rawType": "int64",
         "type": "integer"
        },
        {
         "name": "23x9",
         "rawType": "int64",
         "type": "integer"
        },
        {
         "name": "23x10",
         "rawType": "int64",
         "type": "integer"
        },
        {
         "name": "23x11",
         "rawType": "int64",
         "type": "integer"
        },
        {
         "name": "23x12",
         "rawType": "int64",
         "type": "integer"
        },
        {
         "name": "23x13",
         "rawType": "int64",
         "type": "integer"
        },
        {
         "name": "23x14",
         "rawType": "int64",
         "type": "integer"
        },
        {
         "name": "23x15",
         "rawType": "int64",
         "type": "integer"
        },
        {
         "name": "23x16",
         "rawType": "int64",
         "type": "integer"
        },
        {
         "name": "23x17",
         "rawType": "int64",
         "type": "integer"
        },
        {
         "name": "23x18",
         "rawType": "int64",
         "type": "integer"
        },
        {
         "name": "23x19",
         "rawType": "int64",
         "type": "integer"
        },
        {
         "name": "23x20",
         "rawType": "int64",
         "type": "integer"
        },
        {
         "name": "23x21",
         "rawType": "int64",
         "type": "integer"
        },
        {
         "name": "23x22",
         "rawType": "int64",
         "type": "integer"
        },
        {
         "name": "23x23",
         "rawType": "int64",
         "type": "integer"
        },
        {
         "name": "23x24",
         "rawType": "int64",
         "type": "integer"
        },
        {
         "name": "23x25",
         "rawType": "int64",
         "type": "integer"
        },
        {
         "name": "23x26",
         "rawType": "int64",
         "type": "integer"
        },
        {
         "name": "23x27",
         "rawType": "int64",
         "type": "integer"
        },
        {
         "name": "23x28",
         "rawType": "int64",
         "type": "integer"
        },
        {
         "name": "24x1",
         "rawType": "int64",
         "type": "integer"
        },
        {
         "name": "24x2",
         "rawType": "int64",
         "type": "integer"
        },
        {
         "name": "24x3",
         "rawType": "int64",
         "type": "integer"
        },
        {
         "name": "24x4",
         "rawType": "int64",
         "type": "integer"
        },
        {
         "name": "24x5",
         "rawType": "int64",
         "type": "integer"
        },
        {
         "name": "24x6",
         "rawType": "int64",
         "type": "integer"
        },
        {
         "name": "24x7",
         "rawType": "int64",
         "type": "integer"
        },
        {
         "name": "24x8",
         "rawType": "int64",
         "type": "integer"
        },
        {
         "name": "24x9",
         "rawType": "int64",
         "type": "integer"
        },
        {
         "name": "24x10",
         "rawType": "int64",
         "type": "integer"
        },
        {
         "name": "24x11",
         "rawType": "int64",
         "type": "integer"
        },
        {
         "name": "24x12",
         "rawType": "int64",
         "type": "integer"
        },
        {
         "name": "24x13",
         "rawType": "int64",
         "type": "integer"
        },
        {
         "name": "24x14",
         "rawType": "int64",
         "type": "integer"
        },
        {
         "name": "24x15",
         "rawType": "int64",
         "type": "integer"
        },
        {
         "name": "24x16",
         "rawType": "int64",
         "type": "integer"
        },
        {
         "name": "24x17",
         "rawType": "int64",
         "type": "integer"
        },
        {
         "name": "24x18",
         "rawType": "int64",
         "type": "integer"
        },
        {
         "name": "24x19",
         "rawType": "int64",
         "type": "integer"
        },
        {
         "name": "24x20",
         "rawType": "int64",
         "type": "integer"
        },
        {
         "name": "24x21",
         "rawType": "int64",
         "type": "integer"
        },
        {
         "name": "24x22",
         "rawType": "int64",
         "type": "integer"
        },
        {
         "name": "24x23",
         "rawType": "int64",
         "type": "integer"
        },
        {
         "name": "24x24",
         "rawType": "int64",
         "type": "integer"
        },
        {
         "name": "24x25",
         "rawType": "int64",
         "type": "integer"
        },
        {
         "name": "24x26",
         "rawType": "int64",
         "type": "integer"
        },
        {
         "name": "24x27",
         "rawType": "int64",
         "type": "integer"
        },
        {
         "name": "24x28",
         "rawType": "int64",
         "type": "integer"
        },
        {
         "name": "25x1",
         "rawType": "int64",
         "type": "integer"
        },
        {
         "name": "25x2",
         "rawType": "int64",
         "type": "integer"
        },
        {
         "name": "25x3",
         "rawType": "int64",
         "type": "integer"
        },
        {
         "name": "25x4",
         "rawType": "int64",
         "type": "integer"
        },
        {
         "name": "25x5",
         "rawType": "int64",
         "type": "integer"
        },
        {
         "name": "25x6",
         "rawType": "int64",
         "type": "integer"
        },
        {
         "name": "25x7",
         "rawType": "int64",
         "type": "integer"
        },
        {
         "name": "25x8",
         "rawType": "int64",
         "type": "integer"
        },
        {
         "name": "25x9",
         "rawType": "int64",
         "type": "integer"
        },
        {
         "name": "25x10",
         "rawType": "int64",
         "type": "integer"
        },
        {
         "name": "25x11",
         "rawType": "int64",
         "type": "integer"
        },
        {
         "name": "25x12",
         "rawType": "int64",
         "type": "integer"
        },
        {
         "name": "25x13",
         "rawType": "int64",
         "type": "integer"
        },
        {
         "name": "25x14",
         "rawType": "int64",
         "type": "integer"
        },
        {
         "name": "25x15",
         "rawType": "int64",
         "type": "integer"
        },
        {
         "name": "25x16",
         "rawType": "int64",
         "type": "integer"
        },
        {
         "name": "25x17",
         "rawType": "int64",
         "type": "integer"
        },
        {
         "name": "25x18",
         "rawType": "int64",
         "type": "integer"
        },
        {
         "name": "25x19",
         "rawType": "int64",
         "type": "integer"
        },
        {
         "name": "25x20",
         "rawType": "int64",
         "type": "integer"
        },
        {
         "name": "25x21",
         "rawType": "int64",
         "type": "integer"
        },
        {
         "name": "25x22",
         "rawType": "int64",
         "type": "integer"
        },
        {
         "name": "25x23",
         "rawType": "int64",
         "type": "integer"
        },
        {
         "name": "25x24",
         "rawType": "int64",
         "type": "integer"
        },
        {
         "name": "25x25",
         "rawType": "int64",
         "type": "integer"
        },
        {
         "name": "25x26",
         "rawType": "int64",
         "type": "integer"
        },
        {
         "name": "25x27",
         "rawType": "int64",
         "type": "integer"
        },
        {
         "name": "25x28",
         "rawType": "int64",
         "type": "integer"
        },
        {
         "name": "26x1",
         "rawType": "int64",
         "type": "integer"
        },
        {
         "name": "26x2",
         "rawType": "int64",
         "type": "integer"
        },
        {
         "name": "26x3",
         "rawType": "int64",
         "type": "integer"
        },
        {
         "name": "26x4",
         "rawType": "int64",
         "type": "integer"
        },
        {
         "name": "26x5",
         "rawType": "int64",
         "type": "integer"
        },
        {
         "name": "26x6",
         "rawType": "int64",
         "type": "integer"
        },
        {
         "name": "26x7",
         "rawType": "int64",
         "type": "integer"
        },
        {
         "name": "26x8",
         "rawType": "int64",
         "type": "integer"
        },
        {
         "name": "26x9",
         "rawType": "int64",
         "type": "integer"
        },
        {
         "name": "26x10",
         "rawType": "int64",
         "type": "integer"
        },
        {
         "name": "26x11",
         "rawType": "int64",
         "type": "integer"
        },
        {
         "name": "26x12",
         "rawType": "int64",
         "type": "integer"
        },
        {
         "name": "26x13",
         "rawType": "int64",
         "type": "integer"
        },
        {
         "name": "26x14",
         "rawType": "int64",
         "type": "integer"
        },
        {
         "name": "26x15",
         "rawType": "int64",
         "type": "integer"
        },
        {
         "name": "26x16",
         "rawType": "int64",
         "type": "integer"
        },
        {
         "name": "26x17",
         "rawType": "int64",
         "type": "integer"
        },
        {
         "name": "26x18",
         "rawType": "int64",
         "type": "integer"
        },
        {
         "name": "26x19",
         "rawType": "int64",
         "type": "integer"
        },
        {
         "name": "26x20",
         "rawType": "int64",
         "type": "integer"
        },
        {
         "name": "26x21",
         "rawType": "int64",
         "type": "integer"
        },
        {
         "name": "26x22",
         "rawType": "int64",
         "type": "integer"
        },
        {
         "name": "26x23",
         "rawType": "int64",
         "type": "integer"
        },
        {
         "name": "26x24",
         "rawType": "int64",
         "type": "integer"
        },
        {
         "name": "26x25",
         "rawType": "int64",
         "type": "integer"
        },
        {
         "name": "26x26",
         "rawType": "int64",
         "type": "integer"
        },
        {
         "name": "26x27",
         "rawType": "int64",
         "type": "integer"
        },
        {
         "name": "26x28",
         "rawType": "int64",
         "type": "integer"
        },
        {
         "name": "27x1",
         "rawType": "int64",
         "type": "integer"
        },
        {
         "name": "27x2",
         "rawType": "int64",
         "type": "integer"
        },
        {
         "name": "27x3",
         "rawType": "int64",
         "type": "integer"
        },
        {
         "name": "27x4",
         "rawType": "int64",
         "type": "integer"
        },
        {
         "name": "27x5",
         "rawType": "int64",
         "type": "integer"
        },
        {
         "name": "27x6",
         "rawType": "int64",
         "type": "integer"
        },
        {
         "name": "27x7",
         "rawType": "int64",
         "type": "integer"
        },
        {
         "name": "27x8",
         "rawType": "int64",
         "type": "integer"
        },
        {
         "name": "27x9",
         "rawType": "int64",
         "type": "integer"
        },
        {
         "name": "27x10",
         "rawType": "int64",
         "type": "integer"
        },
        {
         "name": "27x11",
         "rawType": "int64",
         "type": "integer"
        },
        {
         "name": "27x12",
         "rawType": "int64",
         "type": "integer"
        },
        {
         "name": "27x13",
         "rawType": "int64",
         "type": "integer"
        },
        {
         "name": "27x14",
         "rawType": "int64",
         "type": "integer"
        },
        {
         "name": "27x15",
         "rawType": "int64",
         "type": "integer"
        },
        {
         "name": "27x16",
         "rawType": "int64",
         "type": "integer"
        },
        {
         "name": "27x17",
         "rawType": "int64",
         "type": "integer"
        },
        {
         "name": "27x18",
         "rawType": "int64",
         "type": "integer"
        },
        {
         "name": "27x19",
         "rawType": "int64",
         "type": "integer"
        },
        {
         "name": "27x20",
         "rawType": "int64",
         "type": "integer"
        },
        {
         "name": "27x21",
         "rawType": "int64",
         "type": "integer"
        },
        {
         "name": "27x22",
         "rawType": "int64",
         "type": "integer"
        },
        {
         "name": "27x23",
         "rawType": "int64",
         "type": "integer"
        },
        {
         "name": "27x24",
         "rawType": "int64",
         "type": "integer"
        },
        {
         "name": "27x25",
         "rawType": "int64",
         "type": "integer"
        },
        {
         "name": "27x26",
         "rawType": "int64",
         "type": "integer"
        },
        {
         "name": "27x27",
         "rawType": "int64",
         "type": "integer"
        },
        {
         "name": "27x28",
         "rawType": "int64",
         "type": "integer"
        },
        {
         "name": "28x1",
         "rawType": "int64",
         "type": "integer"
        },
        {
         "name": "28x2",
         "rawType": "int64",
         "type": "integer"
        },
        {
         "name": "28x3",
         "rawType": "int64",
         "type": "integer"
        },
        {
         "name": "28x4",
         "rawType": "int64",
         "type": "integer"
        },
        {
         "name": "28x5",
         "rawType": "int64",
         "type": "integer"
        },
        {
         "name": "28x6",
         "rawType": "int64",
         "type": "integer"
        },
        {
         "name": "28x7",
         "rawType": "int64",
         "type": "integer"
        },
        {
         "name": "28x8",
         "rawType": "int64",
         "type": "integer"
        },
        {
         "name": "28x9",
         "rawType": "int64",
         "type": "integer"
        },
        {
         "name": "28x10",
         "rawType": "int64",
         "type": "integer"
        },
        {
         "name": "28x11",
         "rawType": "int64",
         "type": "integer"
        },
        {
         "name": "28x12",
         "rawType": "int64",
         "type": "integer"
        },
        {
         "name": "28x13",
         "rawType": "int64",
         "type": "integer"
        },
        {
         "name": "28x14",
         "rawType": "int64",
         "type": "integer"
        },
        {
         "name": "28x15",
         "rawType": "int64",
         "type": "integer"
        },
        {
         "name": "28x16",
         "rawType": "int64",
         "type": "integer"
        },
        {
         "name": "28x17",
         "rawType": "int64",
         "type": "integer"
        },
        {
         "name": "28x18",
         "rawType": "int64",
         "type": "integer"
        },
        {
         "name": "28x19",
         "rawType": "int64",
         "type": "integer"
        },
        {
         "name": "28x20",
         "rawType": "int64",
         "type": "integer"
        },
        {
         "name": "28x21",
         "rawType": "int64",
         "type": "integer"
        },
        {
         "name": "28x22",
         "rawType": "int64",
         "type": "integer"
        },
        {
         "name": "28x23",
         "rawType": "int64",
         "type": "integer"
        },
        {
         "name": "28x24",
         "rawType": "int64",
         "type": "integer"
        },
        {
         "name": "28x25",
         "rawType": "int64",
         "type": "integer"
        },
        {
         "name": "28x26",
         "rawType": "int64",
         "type": "integer"
        },
        {
         "name": "28x27",
         "rawType": "int64",
         "type": "integer"
        },
        {
         "name": "28x28",
         "rawType": "int64",
         "type": "integer"
        }
       ],
       "ref": "88f28b83-e35a-41ac-b2c4-b6e2d04e66ee",
       "rows": [
        [
         "0",
         "5",
         "0",
         "0",
         "0",
         "0",
         "0",
         "0",
         "0",
         "0",
         "0",
         "0",
         "0",
         "0",
         "0",
         "0",
         "0",
         "0",
         "0",
         "0",
         "0",
         "0",
         "0",
         "0",
         "0",
         "0",
         "0",
         "0",
         "0",
         "0",
         "0",
         "0",
         "0",
         "0",
         "0",
         "0",
         "0",
         "0",
         "0",
         "0",
         "0",
         "0",
         "0",
         "0",
         "0",
         "0",
         "0",
         "0",
         "0",
         "0",
         "0",
         "0",
         "0",
         "0",
         "0",
         "0",
         "0",
         "0",
         "0",
         "0",
         "0",
         "0",
         "0",
         "0",
         "0",
         "0",
         "0",
         "0",
         "0",
         "0",
         "0",
         "0",
         "0",
         "0",
         "0",
         "0",
         "0",
         "0",
         "0",
         "0",
         "0",
         "0",
         "0",
         "0",
         "0",
         "0",
         "0",
         "0",
         "0",
         "0",
         "0",
         "0",
         "0",
         "0",
         "0",
         "0",
         "0",
         "0",
         "0",
         "0",
         "0",
         "0",
         "0",
         "0",
         "0",
         "0",
         "0",
         "0",
         "0",
         "0",
         "0",
         "0",
         "0",
         "0",
         "0",
         "0",
         "0",
         "0",
         "0",
         "0",
         "0",
         "0",
         "0",
         "0",
         "0",
         "0",
         "0",
         "0",
         "0",
         "0",
         "0",
         "0",
         "0",
         "0",
         "0",
         "0",
         "0",
         "0",
         "0",
         "0",
         "0",
         "0",
         "0",
         "0",
         "0",
         "0",
         "0",
         "0",
         "0",
         "0",
         "0",
         "0",
         "0",
         "0",
         "3",
         "18",
         "18",
         "18",
         "126",
         "136",
         "175",
         "26",
         "166",
         "255",
         "247",
         "127",
         "0",
         "0",
         "0",
         "0",
         "0",
         "0",
         "0",
         "0",
         "0",
         "0",
         "0",
         "0",
         "30",
         "36",
         "94",
         "154",
         "170",
         "253",
         "253",
         "253",
         "253",
         "253",
         "225",
         "172",
         "253",
         "242",
         "195",
         "64",
         "0",
         "0",
         "0",
         "0",
         "0",
         "0",
         "0",
         "0",
         "0",
         "0",
         "0",
         "49",
         "238",
         "253",
         "253",
         "253",
         "253",
         "253",
         "253",
         "253",
         "253",
         "251",
         "93",
         "82",
         "82",
         "56",
         "39",
         "0",
         "0",
         "0",
         "0",
         "0",
         "0",
         "0",
         "0",
         "0",
         "0",
         "0",
         "0",
         "18",
         "219",
         "253",
         "253",
         "253",
         "253",
         "253",
         "198",
         "182",
         "247",
         "241",
         "0",
         "0",
         "0",
         "0",
         "0",
         "0",
         "0",
         "0",
         "0",
         "0",
         "0",
         "0",
         "0",
         "0",
         "0",
         "0",
         "0",
         "0",
         "80",
         "156",
         "107",
         "253",
         "253",
         "205",
         "11",
         "0",
         "43",
         "154",
         "0",
         "0",
         "0",
         "0",
         "0",
         "0",
         "0",
         "0",
         "0",
         "0",
         "0",
         "0",
         "0",
         "0",
         "0",
         "0",
         "0",
         "0",
         "0",
         "14",
         "1",
         "154",
         "253",
         "90",
         "0",
         "0",
         "0",
         "0",
         "0",
         "0",
         "0",
         "0",
         "0",
         "0",
         "0",
         "0",
         "0",
         "0",
         "0",
         "0",
         "0",
         "0",
         "0",
         "0",
         "0",
         "0",
         "0",
         "0",
         "0",
         "139",
         "253",
         "190",
         "2",
         "0",
         "0",
         "0",
         "0",
         "0",
         "0",
         "0",
         "0",
         "0",
         "0",
         "0",
         "0",
         "0",
         "0",
         "0",
         "0",
         "0",
         "0",
         "0",
         "0",
         "0",
         "0",
         "0",
         "0",
         "11",
         "190",
         "253",
         "70",
         "0",
         "0",
         "0",
         "0",
         "0",
         "0",
         "0",
         "0",
         "0",
         "0",
         "0",
         "0",
         "0",
         "0",
         "0",
         "0",
         "0",
         "0",
         "0",
         "0",
         "0",
         "0",
         "0",
         "0",
         "0",
         "35",
         "241",
         "225",
         "160",
         "108",
         "1",
         "0",
         "0",
         "0",
         "0",
         "0",
         "0",
         "0",
         "0",
         "0",
         "0",
         "0",
         "0",
         "0",
         "0",
         "0",
         "0",
         "0",
         "0",
         "0",
         "0",
         "0",
         "0",
         "0",
         "81",
         "240",
         "253",
         "253",
         "119",
         "25",
         "0",
         "0",
         "0",
         "0",
         "0",
         "0",
         "0",
         "0",
         "0",
         "0",
         "0",
         "0",
         "0",
         "0",
         "0",
         "0",
         "0",
         "0",
         "0",
         "0",
         "0",
         "0",
         "0",
         "45",
         "186",
         "253",
         "253",
         "150",
         "27",
         "0",
         "0",
         "0",
         "0",
         "0",
         "0",
         "0",
         "0",
         "0",
         "0",
         "0",
         "0",
         "0",
         "0",
         "0",
         "0",
         "0",
         "0",
         "0",
         "0",
         "0",
         "0",
         "0",
         "16",
         "93",
         "252",
         "253",
         "187",
         "0",
         "0",
         "0",
         "0",
         "0",
         "0",
         "0",
         "0",
         "0",
         "0",
         "0",
         "0",
         "0",
         "0",
         "0",
         "0",
         "0",
         "0",
         "0",
         "0",
         "0",
         "0",
         "0",
         "0",
         "0",
         "249",
         "253",
         "249",
         "64",
         "0",
         "0",
         "0",
         "0",
         "0",
         "0",
         "0",
         "0",
         "0",
         "0",
         "0",
         "0",
         "0",
         "0",
         "0",
         "0",
         "0",
         "0",
         "0",
         "0",
         "0",
         "46",
         "130",
         "183",
         "253",
         "253",
         "207",
         "2",
         "0",
         "0",
         "0",
         "0",
         "0",
         "0",
         "0",
         "0",
         "0",
         "0",
         "0",
         "0",
         "0",
         "0",
         "0",
         "0",
         "0",
         "0",
         "0",
         "39",
         "148",
         "229",
         "253",
         "253",
         "253",
         "250",
         "182",
         "0",
         "0",
         "0",
         "0",
         "0",
         "0",
         "0",
         "0",
         "0",
         "0",
         "0",
         "0",
         "0",
         "0",
         "0",
         "0",
         "0",
         "0",
         "24",
         "114",
         "221",
         "253",
         "253",
         "253",
         "253",
         "201",
         "78",
         "0",
         "0",
         "0",
         "0",
         "0",
         "0",
         "0",
         "0",
         "0",
         "0",
         "0",
         "0",
         "0",
         "0",
         "0",
         "0",
         "0",
         "23",
         "66",
         "213",
         "253",
         "253",
         "253",
         "253",
         "198",
         "81",
         "2",
         "0",
         "0",
         "0",
         "0",
         "0",
         "0",
         "0",
         "0",
         "0",
         "0",
         "0",
         "0",
         "0",
         "0",
         "0",
         "0",
         "18",
         "171",
         "219",
         "253",
         "253",
         "253",
         "253",
         "195",
         "80",
         "9",
         "0",
         "0",
         "0",
         "0",
         "0",
         "0",
         "0",
         "0",
         "0",
         "0",
         "0",
         "0",
         "0",
         "0",
         "0",
         "0",
         "55",
         "172",
         "226",
         "253",
         "253",
         "253",
         "253",
         "244",
         "133",
         "11",
         "0",
         "0",
         "0",
         "0",
         "0",
         "0",
         "0",
         "0",
         "0",
         "0",
         "0",
         "0",
         "0",
         "0",
         "0",
         "0",
         "0",
         "0",
         "136",
         "253",
         "253",
         "253",
         "212",
         "135",
         "132",
         "16",
         "0",
         "0",
         "0",
         "0",
         "0",
         "0",
         "0",
         "0",
         "0",
         "0",
         "0",
         "0",
         "0",
         "0",
         "0",
         "0",
         "0",
         "0",
         "0",
         "0",
         "0",
         "0",
         "0",
         "0",
         "0",
         "0",
         "0",
         "0",
         "0",
         "0",
         "0",
         "0",
         "0",
         "0",
         "0",
         "0",
         "0",
         "0",
         "0",
         "0",
         "0",
         "0",
         "0",
         "0",
         "0",
         "0",
         "0",
         "0",
         "0",
         "0",
         "0",
         "0",
         "0",
         "0",
         "0",
         "0",
         "0",
         "0",
         "0",
         "0",
         "0",
         "0",
         "0",
         "0",
         "0",
         "0",
         "0",
         "0",
         "0",
         "0",
         "0",
         "0",
         "0",
         "0",
         "0",
         "0",
         "0",
         "0",
         "0",
         "0",
         "0",
         "0",
         "0",
         "0",
         "0",
         "0",
         "0",
         "0",
         "0",
         "0",
         "0",
         "0",
         "0",
         "0",
         "0",
         "0",
         "0",
         "0",
         "0",
         "0"
        ],
        [
         "1",
         "0",
         "0",
         "0",
         "0",
         "0",
         "0",
         "0",
         "0",
         "0",
         "0",
         "0",
         "0",
         "0",
         "0",
         "0",
         "0",
         "0",
         "0",
         "0",
         "0",
         "0",
         "0",
         "0",
         "0",
         "0",
         "0",
         "0",
         "0",
         "0",
         "0",
         "0",
         "0",
         "0",
         "0",
         "0",
         "0",
         "0",
         "0",
         "0",
         "0",
         "0",
         "0",
         "0",
         "0",
         "0",
         "0",
         "0",
         "0",
         "0",
         "0",
         "0",
         "0",
         "0",
         "0",
         "0",
         "0",
         "0",
         "0",
         "0",
         "0",
         "0",
         "0",
         "0",
         "0",
         "0",
         "0",
         "0",
         "0",
         "0",
         "0",
         "0",
         "0",
         "0",
         "0",
         "0",
         "0",
         "0",
         "0",
         "0",
         "0",
         "0",
         "0",
         "0",
         "0",
         "0",
         "0",
         "0",
         "0",
         "0",
         "0",
         "0",
         "0",
         "0",
         "0",
         "0",
         "0",
         "0",
         "0",
         "0",
         "0",
         "0",
         "0",
         "0",
         "0",
         "0",
         "0",
         "0",
         "0",
         "0",
         "0",
         "0",
         "0",
         "0",
         "0",
         "0",
         "0",
         "0",
         "0",
         "0",
         "0",
         "0",
         "0",
         "0",
         "0",
         "0",
         "0",
         "0",
         "0",
         "51",
         "159",
         "253",
         "159",
         "50",
         "0",
         "0",
         "0",
         "0",
         "0",
         "0",
         "0",
         "0",
         "0",
         "0",
         "0",
         "0",
         "0",
         "0",
         "0",
         "0",
         "0",
         "0",
         "0",
         "0",
         "0",
         "0",
         "48",
         "238",
         "252",
         "252",
         "252",
         "237",
         "0",
         "0",
         "0",
         "0",
         "0",
         "0",
         "0",
         "0",
         "0",
         "0",
         "0",
         "0",
         "0",
         "0",
         "0",
         "0",
         "0",
         "0",
         "0",
         "0",
         "0",
         "54",
         "227",
         "253",
         "252",
         "239",
         "233",
         "252",
         "57",
         "6",
         "0",
         "0",
         "0",
         "0",
         "0",
         "0",
         "0",
         "0",
         "0",
         "0",
         "0",
         "0",
         "0",
         "0",
         "0",
         "0",
         "0",
         "10",
         "60",
         "224",
         "252",
         "253",
         "252",
         "202",
         "84",
         "252",
         "253",
         "122",
         "0",
         "0",
         "0",
         "0",
         "0",
         "0",
         "0",
         "0",
         "0",
         "0",
         "0",
         "0",
         "0",
         "0",
         "0",
         "0",
         "0",
         "163",
         "252",
         "252",
         "252",
         "253",
         "252",
         "252",
         "96",
         "189",
         "253",
         "167",
         "0",
         "0",
         "0",
         "0",
         "0",
         "0",
         "0",
         "0",
         "0",
         "0",
         "0",
         "0",
         "0",
         "0",
         "0",
         "0",
         "51",
         "238",
         "253",
         "253",
         "190",
         "114",
         "253",
         "228",
         "47",
         "79",
         "255",
         "168",
         "0",
         "0",
         "0",
         "0",
         "0",
         "0",
         "0",
         "0",
         "0",
         "0",
         "0",
         "0",
         "0",
         "0",
         "0",
         "48",
         "238",
         "252",
         "252",
         "179",
         "12",
         "75",
         "121",
         "21",
         "0",
         "0",
         "253",
         "243",
         "50",
         "0",
         "0",
         "0",
         "0",
         "0",
         "0",
         "0",
         "0",
         "0",
         "0",
         "0",
         "0",
         "0",
         "38",
         "165",
         "253",
         "233",
         "208",
         "84",
         "0",
         "0",
         "0",
         "0",
         "0",
         "0",
         "253",
         "252",
         "165",
         "0",
         "0",
         "0",
         "0",
         "0",
         "0",
         "0",
         "0",
         "0",
         "0",
         "0",
         "0",
         "7",
         "178",
         "252",
         "240",
         "71",
         "19",
         "28",
         "0",
         "0",
         "0",
         "0",
         "0",
         "0",
         "253",
         "252",
         "195",
         "0",
         "0",
         "0",
         "0",
         "0",
         "0",
         "0",
         "0",
         "0",
         "0",
         "0",
         "0",
         "57",
         "252",
         "252",
         "63",
         "0",
         "0",
         "0",
         "0",
         "0",
         "0",
         "0",
         "0",
         "0",
         "253",
         "252",
         "195",
         "0",
         "0",
         "0",
         "0",
         "0",
         "0",
         "0",
         "0",
         "0",
         "0",
         "0",
         "0",
         "198",
         "253",
         "190",
         "0",
         "0",
         "0",
         "0",
         "0",
         "0",
         "0",
         "0",
         "0",
         "0",
         "255",
         "253",
         "196",
         "0",
         "0",
         "0",
         "0",
         "0",
         "0",
         "0",
         "0",
         "0",
         "0",
         "0",
         "76",
         "246",
         "252",
         "112",
         "0",
         "0",
         "0",
         "0",
         "0",
         "0",
         "0",
         "0",
         "0",
         "0",
         "253",
         "252",
         "148",
         "0",
         "0",
         "0",
         "0",
         "0",
         "0",
         "0",
         "0",
         "0",
         "0",
         "0",
         "85",
         "252",
         "230",
         "25",
         "0",
         "0",
         "0",
         "0",
         "0",
         "0",
         "0",
         "0",
         "7",
         "135",
         "253",
         "186",
         "12",
         "0",
         "0",
         "0",
         "0",
         "0",
         "0",
         "0",
         "0",
         "0",
         "0",
         "0",
         "85",
         "252",
         "223",
         "0",
         "0",
         "0",
         "0",
         "0",
         "0",
         "0",
         "0",
         "7",
         "131",
         "252",
         "225",
         "71",
         "0",
         "0",
         "0",
         "0",
         "0",
         "0",
         "0",
         "0",
         "0",
         "0",
         "0",
         "0",
         "85",
         "252",
         "145",
         "0",
         "0",
         "0",
         "0",
         "0",
         "0",
         "0",
         "48",
         "165",
         "252",
         "173",
         "0",
         "0",
         "0",
         "0",
         "0",
         "0",
         "0",
         "0",
         "0",
         "0",
         "0",
         "0",
         "0",
         "0",
         "86",
         "253",
         "225",
         "0",
         "0",
         "0",
         "0",
         "0",
         "0",
         "114",
         "238",
         "253",
         "162",
         "0",
         "0",
         "0",
         "0",
         "0",
         "0",
         "0",
         "0",
         "0",
         "0",
         "0",
         "0",
         "0",
         "0",
         "0",
         "85",
         "252",
         "249",
         "146",
         "48",
         "29",
         "85",
         "178",
         "225",
         "253",
         "223",
         "167",
         "56",
         "0",
         "0",
         "0",
         "0",
         "0",
         "0",
         "0",
         "0",
         "0",
         "0",
         "0",
         "0",
         "0",
         "0",
         "0",
         "85",
         "252",
         "252",
         "252",
         "229",
         "215",
         "252",
         "252",
         "252",
         "196",
         "130",
         "0",
         "0",
         "0",
         "0",
         "0",
         "0",
         "0",
         "0",
         "0",
         "0",
         "0",
         "0",
         "0",
         "0",
         "0",
         "0",
         "0",
         "28",
         "199",
         "252",
         "252",
         "253",
         "252",
         "252",
         "233",
         "145",
         "0",
         "0",
         "0",
         "0",
         "0",
         "0",
         "0",
         "0",
         "0",
         "0",
         "0",
         "0",
         "0",
         "0",
         "0",
         "0",
         "0",
         "0",
         "0",
         "0",
         "25",
         "128",
         "252",
         "253",
         "252",
         "141",
         "37",
         "0",
         "0",
         "0",
         "0",
         "0",
         "0",
         "0",
         "0",
         "0",
         "0",
         "0",
         "0",
         "0",
         "0",
         "0",
         "0",
         "0",
         "0",
         "0",
         "0",
         "0",
         "0",
         "0",
         "0",
         "0",
         "0",
         "0",
         "0",
         "0",
         "0",
         "0",
         "0",
         "0",
         "0",
         "0",
         "0",
         "0",
         "0",
         "0",
         "0",
         "0",
         "0",
         "0",
         "0",
         "0",
         "0",
         "0",
         "0",
         "0",
         "0",
         "0",
         "0",
         "0",
         "0",
         "0",
         "0",
         "0",
         "0",
         "0",
         "0",
         "0",
         "0",
         "0",
         "0",
         "0",
         "0",
         "0",
         "0",
         "0",
         "0",
         "0",
         "0",
         "0",
         "0",
         "0",
         "0",
         "0",
         "0",
         "0",
         "0",
         "0",
         "0",
         "0",
         "0",
         "0",
         "0",
         "0",
         "0",
         "0",
         "0",
         "0",
         "0",
         "0",
         "0",
         "0",
         "0",
         "0",
         "0",
         "0",
         "0",
         "0",
         "0",
         "0",
         "0",
         "0",
         "0",
         "0",
         "0",
         "0",
         "0",
         "0",
         "0",
         "0",
         "0",
         "0",
         "0",
         "0",
         "0",
         "0",
         "0",
         "0",
         "0",
         "0",
         "0",
         "0",
         "0"
        ],
        [
         "2",
         "4",
         "0",
         "0",
         "0",
         "0",
         "0",
         "0",
         "0",
         "0",
         "0",
         "0",
         "0",
         "0",
         "0",
         "0",
         "0",
         "0",
         "0",
         "0",
         "0",
         "0",
         "0",
         "0",
         "0",
         "0",
         "0",
         "0",
         "0",
         "0",
         "0",
         "0",
         "0",
         "0",
         "0",
         "0",
         "0",
         "0",
         "0",
         "0",
         "0",
         "0",
         "0",
         "0",
         "0",
         "0",
         "0",
         "0",
         "0",
         "0",
         "0",
         "0",
         "0",
         "0",
         "0",
         "0",
         "0",
         "0",
         "0",
         "0",
         "0",
         "0",
         "0",
         "0",
         "0",
         "0",
         "0",
         "0",
         "0",
         "0",
         "0",
         "0",
         "0",
         "0",
         "0",
         "0",
         "0",
         "0",
         "0",
         "0",
         "0",
         "0",
         "0",
         "0",
         "0",
         "0",
         "0",
         "0",
         "0",
         "0",
         "0",
         "0",
         "0",
         "0",
         "0",
         "0",
         "0",
         "0",
         "0",
         "0",
         "0",
         "0",
         "0",
         "0",
         "0",
         "0",
         "0",
         "0",
         "0",
         "0",
         "0",
         "0",
         "0",
         "0",
         "0",
         "0",
         "0",
         "0",
         "0",
         "0",
         "0",
         "0",
         "0",
         "0",
         "0",
         "0",
         "0",
         "0",
         "0",
         "0",
         "0",
         "0",
         "0",
         "0",
         "0",
         "0",
         "0",
         "0",
         "0",
         "0",
         "0",
         "0",
         "0",
         "0",
         "0",
         "0",
         "0",
         "0",
         "0",
         "0",
         "0",
         "0",
         "0",
         "0",
         "0",
         "0",
         "0",
         "0",
         "0",
         "0",
         "0",
         "0",
         "67",
         "232",
         "39",
         "0",
         "0",
         "0",
         "0",
         "0",
         "0",
         "0",
         "0",
         "0",
         "62",
         "81",
         "0",
         "0",
         "0",
         "0",
         "0",
         "0",
         "0",
         "0",
         "0",
         "0",
         "0",
         "0",
         "0",
         "0",
         "120",
         "180",
         "39",
         "0",
         "0",
         "0",
         "0",
         "0",
         "0",
         "0",
         "0",
         "0",
         "126",
         "163",
         "0",
         "0",
         "0",
         "0",
         "0",
         "0",
         "0",
         "0",
         "0",
         "0",
         "0",
         "0",
         "0",
         "2",
         "153",
         "210",
         "40",
         "0",
         "0",
         "0",
         "0",
         "0",
         "0",
         "0",
         "0",
         "0",
         "220",
         "163",
         "0",
         "0",
         "0",
         "0",
         "0",
         "0",
         "0",
         "0",
         "0",
         "0",
         "0",
         "0",
         "0",
         "27",
         "254",
         "162",
         "0",
         "0",
         "0",
         "0",
         "0",
         "0",
         "0",
         "0",
         "0",
         "0",
         "222",
         "163",
         "0",
         "0",
         "0",
         "0",
         "0",
         "0",
         "0",
         "0",
         "0",
         "0",
         "0",
         "0",
         "0",
         "183",
         "254",
         "125",
         "0",
         "0",
         "0",
         "0",
         "0",
         "0",
         "0",
         "0",
         "0",
         "46",
         "245",
         "163",
         "0",
         "0",
         "0",
         "0",
         "0",
         "0",
         "0",
         "0",
         "0",
         "0",
         "0",
         "0",
         "0",
         "198",
         "254",
         "56",
         "0",
         "0",
         "0",
         "0",
         "0",
         "0",
         "0",
         "0",
         "0",
         "120",
         "254",
         "163",
         "0",
         "0",
         "0",
         "0",
         "0",
         "0",
         "0",
         "0",
         "0",
         "0",
         "0",
         "0",
         "23",
         "231",
         "254",
         "29",
         "0",
         "0",
         "0",
         "0",
         "0",
         "0",
         "0",
         "0",
         "0",
         "159",
         "254",
         "120",
         "0",
         "0",
         "0",
         "0",
         "0",
         "0",
         "0",
         "0",
         "0",
         "0",
         "0",
         "0",
         "163",
         "254",
         "216",
         "16",
         "0",
         "0",
         "0",
         "0",
         "0",
         "0",
         "0",
         "0",
         "0",
         "159",
         "254",
         "67",
         "0",
         "0",
         "0",
         "0",
         "0",
         "0",
         "0",
         "0",
         "0",
         "14",
         "86",
         "178",
         "248",
         "254",
         "91",
         "0",
         "0",
         "0",
         "0",
         "0",
         "0",
         "0",
         "0",
         "0",
         "0",
         "159",
         "254",
         "85",
         "0",
         "0",
         "0",
         "47",
         "49",
         "116",
         "144",
         "150",
         "241",
         "243",
         "234",
         "179",
         "241",
         "252",
         "40",
         "0",
         "0",
         "0",
         "0",
         "0",
         "0",
         "0",
         "0",
         "0",
         "0",
         "150",
         "253",
         "237",
         "207",
         "207",
         "207",
         "253",
         "254",
         "250",
         "240",
         "198",
         "143",
         "91",
         "28",
         "5",
         "233",
         "250",
         "0",
         "0",
         "0",
         "0",
         "0",
         "0",
         "0",
         "0",
         "0",
         "0",
         "0",
         "0",
         "119",
         "177",
         "177",
         "177",
         "177",
         "177",
         "98",
         "56",
         "0",
         "0",
         "0",
         "0",
         "0",
         "102",
         "254",
         "220",
         "0",
         "0",
         "0",
         "0",
         "0",
         "0",
         "0",
         "0",
         "0",
         "0",
         "0",
         "0",
         "0",
         "0",
         "0",
         "0",
         "0",
         "0",
         "0",
         "0",
         "0",
         "0",
         "0",
         "0",
         "0",
         "169",
         "254",
         "137",
         "0",
         "0",
         "0",
         "0",
         "0",
         "0",
         "0",
         "0",
         "0",
         "0",
         "0",
         "0",
         "0",
         "0",
         "0",
         "0",
         "0",
         "0",
         "0",
         "0",
         "0",
         "0",
         "0",
         "0",
         "0",
         "169",
         "254",
         "57",
         "0",
         "0",
         "0",
         "0",
         "0",
         "0",
         "0",
         "0",
         "0",
         "0",
         "0",
         "0",
         "0",
         "0",
         "0",
         "0",
         "0",
         "0",
         "0",
         "0",
         "0",
         "0",
         "0",
         "0",
         "0",
         "169",
         "254",
         "57",
         "0",
         "0",
         "0",
         "0",
         "0",
         "0",
         "0",
         "0",
         "0",
         "0",
         "0",
         "0",
         "0",
         "0",
         "0",
         "0",
         "0",
         "0",
         "0",
         "0",
         "0",
         "0",
         "0",
         "0",
         "0",
         "169",
         "255",
         "94",
         "0",
         "0",
         "0",
         "0",
         "0",
         "0",
         "0",
         "0",
         "0",
         "0",
         "0",
         "0",
         "0",
         "0",
         "0",
         "0",
         "0",
         "0",
         "0",
         "0",
         "0",
         "0",
         "0",
         "0",
         "0",
         "169",
         "254",
         "96",
         "0",
         "0",
         "0",
         "0",
         "0",
         "0",
         "0",
         "0",
         "0",
         "0",
         "0",
         "0",
         "0",
         "0",
         "0",
         "0",
         "0",
         "0",
         "0",
         "0",
         "0",
         "0",
         "0",
         "0",
         "0",
         "169",
         "254",
         "153",
         "0",
         "0",
         "0",
         "0",
         "0",
         "0",
         "0",
         "0",
         "0",
         "0",
         "0",
         "0",
         "0",
         "0",
         "0",
         "0",
         "0",
         "0",
         "0",
         "0",
         "0",
         "0",
         "0",
         "0",
         "0",
         "169",
         "255",
         "153",
         "0",
         "0",
         "0",
         "0",
         "0",
         "0",
         "0",
         "0",
         "0",
         "0",
         "0",
         "0",
         "0",
         "0",
         "0",
         "0",
         "0",
         "0",
         "0",
         "0",
         "0",
         "0",
         "0",
         "0",
         "0",
         "96",
         "254",
         "153",
         "0",
         "0",
         "0",
         "0",
         "0",
         "0",
         "0",
         "0",
         "0",
         "0",
         "0",
         "0",
         "0",
         "0",
         "0",
         "0",
         "0",
         "0",
         "0",
         "0",
         "0",
         "0",
         "0",
         "0",
         "0",
         "0",
         "0",
         "0",
         "0",
         "0",
         "0",
         "0",
         "0",
         "0",
         "0",
         "0",
         "0",
         "0",
         "0",
         "0",
         "0",
         "0",
         "0",
         "0",
         "0",
         "0",
         "0",
         "0",
         "0",
         "0",
         "0",
         "0",
         "0",
         "0",
         "0",
         "0",
         "0",
         "0",
         "0",
         "0",
         "0",
         "0",
         "0",
         "0",
         "0",
         "0",
         "0",
         "0",
         "0",
         "0",
         "0",
         "0",
         "0",
         "0",
         "0",
         "0",
         "0",
         "0",
         "0",
         "0",
         "0",
         "0",
         "0",
         "0",
         "0",
         "0",
         "0",
         "0",
         "0",
         "0",
         "0",
         "0"
        ],
        [
         "3",
         "1",
         "0",
         "0",
         "0",
         "0",
         "0",
         "0",
         "0",
         "0",
         "0",
         "0",
         "0",
         "0",
         "0",
         "0",
         "0",
         "0",
         "0",
         "0",
         "0",
         "0",
         "0",
         "0",
         "0",
         "0",
         "0",
         "0",
         "0",
         "0",
         "0",
         "0",
         "0",
         "0",
         "0",
         "0",
         "0",
         "0",
         "0",
         "0",
         "0",
         "0",
         "0",
         "0",
         "0",
         "0",
         "0",
         "0",
         "0",
         "0",
         "0",
         "0",
         "0",
         "0",
         "0",
         "0",
         "0",
         "0",
         "0",
         "0",
         "0",
         "0",
         "0",
         "0",
         "0",
         "0",
         "0",
         "0",
         "0",
         "0",
         "0",
         "0",
         "0",
         "0",
         "0",
         "0",
         "0",
         "0",
         "0",
         "0",
         "0",
         "0",
         "0",
         "0",
         "0",
         "0",
         "0",
         "0",
         "0",
         "0",
         "0",
         "0",
         "0",
         "0",
         "0",
         "0",
         "0",
         "0",
         "0",
         "0",
         "0",
         "0",
         "0",
         "0",
         "0",
         "0",
         "0",
         "0",
         "0",
         "0",
         "0",
         "0",
         "0",
         "0",
         "0",
         "0",
         "0",
         "0",
         "0",
         "0",
         "0",
         "0",
         "0",
         "0",
         "0",
         "0",
         "0",
         "0",
         "0",
         "0",
         "0",
         "0",
         "0",
         "0",
         "0",
         "0",
         "0",
         "0",
         "0",
         "0",
         "0",
         "0",
         "0",
         "0",
         "0",
         "0",
         "0",
         "0",
         "0",
         "0",
         "0",
         "0",
         "0",
         "0",
         "0",
         "0",
         "0",
         "0",
         "0",
         "0",
         "124",
         "253",
         "255",
         "63",
         "0",
         "0",
         "0",
         "0",
         "0",
         "0",
         "0",
         "0",
         "0",
         "0",
         "0",
         "0",
         "0",
         "0",
         "0",
         "0",
         "0",
         "0",
         "0",
         "0",
         "0",
         "0",
         "0",
         "96",
         "244",
         "251",
         "253",
         "62",
         "0",
         "0",
         "0",
         "0",
         "0",
         "0",
         "0",
         "0",
         "0",
         "0",
         "0",
         "0",
         "0",
         "0",
         "0",
         "0",
         "0",
         "0",
         "0",
         "0",
         "0",
         "0",
         "0",
         "127",
         "251",
         "251",
         "253",
         "62",
         "0",
         "0",
         "0",
         "0",
         "0",
         "0",
         "0",
         "0",
         "0",
         "0",
         "0",
         "0",
         "0",
         "0",
         "0",
         "0",
         "0",
         "0",
         "0",
         "0",
         "0",
         "0",
         "68",
         "236",
         "251",
         "211",
         "31",
         "8",
         "0",
         "0",
         "0",
         "0",
         "0",
         "0",
         "0",
         "0",
         "0",
         "0",
         "0",
         "0",
         "0",
         "0",
         "0",
         "0",
         "0",
         "0",
         "0",
         "0",
         "0",
         "60",
         "228",
         "251",
         "251",
         "94",
         "0",
         "0",
         "0",
         "0",
         "0",
         "0",
         "0",
         "0",
         "0",
         "0",
         "0",
         "0",
         "0",
         "0",
         "0",
         "0",
         "0",
         "0",
         "0",
         "0",
         "0",
         "0",
         "0",
         "155",
         "253",
         "253",
         "189",
         "0",
         "0",
         "0",
         "0",
         "0",
         "0",
         "0",
         "0",
         "0",
         "0",
         "0",
         "0",
         "0",
         "0",
         "0",
         "0",
         "0",
         "0",
         "0",
         "0",
         "0",
         "0",
         "0",
         "20",
         "253",
         "251",
         "235",
         "66",
         "0",
         "0",
         "0",
         "0",
         "0",
         "0",
         "0",
         "0",
         "0",
         "0",
         "0",
         "0",
         "0",
         "0",
         "0",
         "0",
         "0",
         "0",
         "0",
         "0",
         "0",
         "0",
         "32",
         "205",
         "253",
         "251",
         "126",
         "0",
         "0",
         "0",
         "0",
         "0",
         "0",
         "0",
         "0",
         "0",
         "0",
         "0",
         "0",
         "0",
         "0",
         "0",
         "0",
         "0",
         "0",
         "0",
         "0",
         "0",
         "0",
         "0",
         "104",
         "251",
         "253",
         "184",
         "15",
         "0",
         "0",
         "0",
         "0",
         "0",
         "0",
         "0",
         "0",
         "0",
         "0",
         "0",
         "0",
         "0",
         "0",
         "0",
         "0",
         "0",
         "0",
         "0",
         "0",
         "0",
         "0",
         "80",
         "240",
         "251",
         "193",
         "23",
         "0",
         "0",
         "0",
         "0",
         "0",
         "0",
         "0",
         "0",
         "0",
         "0",
         "0",
         "0",
         "0",
         "0",
         "0",
         "0",
         "0",
         "0",
         "0",
         "0",
         "0",
         "0",
         "32",
         "253",
         "253",
         "253",
         "159",
         "0",
         "0",
         "0",
         "0",
         "0",
         "0",
         "0",
         "0",
         "0",
         "0",
         "0",
         "0",
         "0",
         "0",
         "0",
         "0",
         "0",
         "0",
         "0",
         "0",
         "0",
         "0",
         "0",
         "151",
         "251",
         "251",
         "251",
         "39",
         "0",
         "0",
         "0",
         "0",
         "0",
         "0",
         "0",
         "0",
         "0",
         "0",
         "0",
         "0",
         "0",
         "0",
         "0",
         "0",
         "0",
         "0",
         "0",
         "0",
         "0",
         "0",
         "48",
         "221",
         "251",
         "251",
         "172",
         "0",
         "0",
         "0",
         "0",
         "0",
         "0",
         "0",
         "0",
         "0",
         "0",
         "0",
         "0",
         "0",
         "0",
         "0",
         "0",
         "0",
         "0",
         "0",
         "0",
         "0",
         "0",
         "0",
         "234",
         "251",
         "251",
         "196",
         "12",
         "0",
         "0",
         "0",
         "0",
         "0",
         "0",
         "0",
         "0",
         "0",
         "0",
         "0",
         "0",
         "0",
         "0",
         "0",
         "0",
         "0",
         "0",
         "0",
         "0",
         "0",
         "0",
         "0",
         "253",
         "251",
         "251",
         "89",
         "0",
         "0",
         "0",
         "0",
         "0",
         "0",
         "0",
         "0",
         "0",
         "0",
         "0",
         "0",
         "0",
         "0",
         "0",
         "0",
         "0",
         "0",
         "0",
         "0",
         "0",
         "0",
         "0",
         "159",
         "255",
         "253",
         "253",
         "31",
         "0",
         "0",
         "0",
         "0",
         "0",
         "0",
         "0",
         "0",
         "0",
         "0",
         "0",
         "0",
         "0",
         "0",
         "0",
         "0",
         "0",
         "0",
         "0",
         "0",
         "0",
         "0",
         "48",
         "228",
         "253",
         "247",
         "140",
         "8",
         "0",
         "0",
         "0",
         "0",
         "0",
         "0",
         "0",
         "0",
         "0",
         "0",
         "0",
         "0",
         "0",
         "0",
         "0",
         "0",
         "0",
         "0",
         "0",
         "0",
         "0",
         "0",
         "64",
         "251",
         "253",
         "220",
         "0",
         "0",
         "0",
         "0",
         "0",
         "0",
         "0",
         "0",
         "0",
         "0",
         "0",
         "0",
         "0",
         "0",
         "0",
         "0",
         "0",
         "0",
         "0",
         "0",
         "0",
         "0",
         "0",
         "0",
         "64",
         "251",
         "253",
         "220",
         "0",
         "0",
         "0",
         "0",
         "0",
         "0",
         "0",
         "0",
         "0",
         "0",
         "0",
         "0",
         "0",
         "0",
         "0",
         "0",
         "0",
         "0",
         "0",
         "0",
         "0",
         "0",
         "0",
         "0",
         "24",
         "193",
         "253",
         "220",
         "0",
         "0",
         "0",
         "0",
         "0",
         "0",
         "0",
         "0",
         "0",
         "0",
         "0",
         "0",
         "0",
         "0",
         "0",
         "0",
         "0",
         "0",
         "0",
         "0",
         "0",
         "0",
         "0",
         "0",
         "0",
         "0",
         "0",
         "0",
         "0",
         "0",
         "0",
         "0",
         "0",
         "0",
         "0",
         "0",
         "0",
         "0",
         "0",
         "0",
         "0",
         "0",
         "0",
         "0",
         "0",
         "0",
         "0",
         "0",
         "0",
         "0",
         "0",
         "0",
         "0",
         "0",
         "0",
         "0",
         "0",
         "0",
         "0",
         "0",
         "0",
         "0",
         "0",
         "0",
         "0",
         "0",
         "0",
         "0",
         "0",
         "0",
         "0",
         "0",
         "0",
         "0",
         "0",
         "0",
         "0",
         "0",
         "0",
         "0",
         "0",
         "0",
         "0",
         "0",
         "0",
         "0",
         "0",
         "0",
         "0",
         "0",
         "0",
         "0",
         "0",
         "0",
         "0",
         "0",
         "0",
         "0",
         "0",
         "0"
        ],
        [
         "4",
         "9",
         "0",
         "0",
         "0",
         "0",
         "0",
         "0",
         "0",
         "0",
         "0",
         "0",
         "0",
         "0",
         "0",
         "0",
         "0",
         "0",
         "0",
         "0",
         "0",
         "0",
         "0",
         "0",
         "0",
         "0",
         "0",
         "0",
         "0",
         "0",
         "0",
         "0",
         "0",
         "0",
         "0",
         "0",
         "0",
         "0",
         "0",
         "0",
         "0",
         "0",
         "0",
         "0",
         "0",
         "0",
         "0",
         "0",
         "0",
         "0",
         "0",
         "0",
         "0",
         "0",
         "0",
         "0",
         "0",
         "0",
         "0",
         "0",
         "0",
         "0",
         "0",
         "0",
         "0",
         "0",
         "0",
         "0",
         "0",
         "0",
         "0",
         "0",
         "0",
         "0",
         "0",
         "0",
         "0",
         "0",
         "0",
         "0",
         "0",
         "0",
         "0",
         "0",
         "0",
         "0",
         "0",
         "0",
         "0",
         "0",
         "0",
         "0",
         "0",
         "0",
         "0",
         "0",
         "0",
         "0",
         "0",
         "0",
         "0",
         "0",
         "0",
         "0",
         "0",
         "0",
         "0",
         "0",
         "0",
         "0",
         "0",
         "0",
         "0",
         "0",
         "0",
         "0",
         "0",
         "0",
         "0",
         "0",
         "0",
         "0",
         "0",
         "0",
         "0",
         "0",
         "0",
         "0",
         "0",
         "0",
         "0",
         "0",
         "0",
         "0",
         "0",
         "0",
         "0",
         "0",
         "0",
         "0",
         "0",
         "0",
         "0",
         "0",
         "0",
         "0",
         "0",
         "0",
         "0",
         "0",
         "0",
         "0",
         "0",
         "0",
         "0",
         "0",
         "0",
         "0",
         "0",
         "0",
         "0",
         "0",
         "0",
         "0",
         "0",
         "0",
         "0",
         "0",
         "0",
         "0",
         "0",
         "0",
         "0",
         "0",
         "0",
         "0",
         "0",
         "0",
         "0",
         "0",
         "0",
         "0",
         "0",
         "0",
         "0",
         "0",
         "0",
         "0",
         "0",
         "0",
         "0",
         "0",
         "0",
         "0",
         "0",
         "0",
         "0",
         "0",
         "0",
         "0",
         "0",
         "0",
         "0",
         "0",
         "0",
         "0",
         "0",
         "0",
         "0",
         "0",
         "55",
         "148",
         "210",
         "253",
         "253",
         "113",
         "87",
         "148",
         "55",
         "0",
         "0",
         "0",
         "0",
         "0",
         "0",
         "0",
         "0",
         "0",
         "0",
         "0",
         "0",
         "0",
         "0",
         "0",
         "0",
         "0",
         "0",
         "87",
         "232",
         "252",
         "253",
         "189",
         "210",
         "252",
         "252",
         "253",
         "168",
         "0",
         "0",
         "0",
         "0",
         "0",
         "0",
         "0",
         "0",
         "0",
         "0",
         "0",
         "0",
         "0",
         "0",
         "0",
         "0",
         "4",
         "57",
         "242",
         "252",
         "190",
         "65",
         "5",
         "12",
         "182",
         "252",
         "253",
         "116",
         "0",
         "0",
         "0",
         "0",
         "0",
         "0",
         "0",
         "0",
         "0",
         "0",
         "0",
         "0",
         "0",
         "0",
         "0",
         "0",
         "96",
         "252",
         "252",
         "183",
         "14",
         "0",
         "0",
         "92",
         "252",
         "252",
         "225",
         "21",
         "0",
         "0",
         "0",
         "0",
         "0",
         "0",
         "0",
         "0",
         "0",
         "0",
         "0",
         "0",
         "0",
         "0",
         "0",
         "132",
         "253",
         "252",
         "146",
         "14",
         "0",
         "0",
         "0",
         "215",
         "252",
         "252",
         "79",
         "0",
         "0",
         "0",
         "0",
         "0",
         "0",
         "0",
         "0",
         "0",
         "0",
         "0",
         "0",
         "0",
         "0",
         "0",
         "126",
         "253",
         "247",
         "176",
         "9",
         "0",
         "0",
         "8",
         "78",
         "245",
         "253",
         "129",
         "0",
         "0",
         "0",
         "0",
         "0",
         "0",
         "0",
         "0",
         "0",
         "0",
         "0",
         "0",
         "0",
         "0",
         "0",
         "16",
         "232",
         "252",
         "176",
         "0",
         "0",
         "0",
         "36",
         "201",
         "252",
         "252",
         "169",
         "11",
         "0",
         "0",
         "0",
         "0",
         "0",
         "0",
         "0",
         "0",
         "0",
         "0",
         "0",
         "0",
         "0",
         "0",
         "0",
         "22",
         "252",
         "252",
         "30",
         "22",
         "119",
         "197",
         "241",
         "253",
         "252",
         "251",
         "77",
         "0",
         "0",
         "0",
         "0",
         "0",
         "0",
         "0",
         "0",
         "0",
         "0",
         "0",
         "0",
         "0",
         "0",
         "0",
         "0",
         "16",
         "231",
         "252",
         "253",
         "252",
         "252",
         "252",
         "226",
         "227",
         "252",
         "231",
         "0",
         "0",
         "0",
         "0",
         "0",
         "0",
         "0",
         "0",
         "0",
         "0",
         "0",
         "0",
         "0",
         "0",
         "0",
         "0",
         "0",
         "0",
         "55",
         "235",
         "253",
         "217",
         "138",
         "42",
         "24",
         "192",
         "252",
         "143",
         "0",
         "0",
         "0",
         "0",
         "0",
         "0",
         "0",
         "0",
         "0",
         "0",
         "0",
         "0",
         "0",
         "0",
         "0",
         "0",
         "0",
         "0",
         "0",
         "0",
         "0",
         "0",
         "0",
         "0",
         "62",
         "255",
         "253",
         "109",
         "0",
         "0",
         "0",
         "0",
         "0",
         "0",
         "0",
         "0",
         "0",
         "0",
         "0",
         "0",
         "0",
         "0",
         "0",
         "0",
         "0",
         "0",
         "0",
         "0",
         "0",
         "0",
         "0",
         "0",
         "71",
         "253",
         "252",
         "21",
         "0",
         "0",
         "0",
         "0",
         "0",
         "0",
         "0",
         "0",
         "0",
         "0",
         "0",
         "0",
         "0",
         "0",
         "0",
         "0",
         "0",
         "0",
         "0",
         "0",
         "0",
         "0",
         "0",
         "0",
         "0",
         "253",
         "252",
         "21",
         "0",
         "0",
         "0",
         "0",
         "0",
         "0",
         "0",
         "0",
         "0",
         "0",
         "0",
         "0",
         "0",
         "0",
         "0",
         "0",
         "0",
         "0",
         "0",
         "0",
         "0",
         "0",
         "0",
         "0",
         "71",
         "253",
         "252",
         "21",
         "0",
         "0",
         "0",
         "0",
         "0",
         "0",
         "0",
         "0",
         "0",
         "0",
         "0",
         "0",
         "0",
         "0",
         "0",
         "0",
         "0",
         "0",
         "0",
         "0",
         "0",
         "0",
         "0",
         "0",
         "106",
         "253",
         "252",
         "21",
         "0",
         "0",
         "0",
         "0",
         "0",
         "0",
         "0",
         "0",
         "0",
         "0",
         "0",
         "0",
         "0",
         "0",
         "0",
         "0",
         "0",
         "0",
         "0",
         "0",
         "0",
         "0",
         "0",
         "0",
         "45",
         "255",
         "253",
         "21",
         "0",
         "0",
         "0",
         "0",
         "0",
         "0",
         "0",
         "0",
         "0",
         "0",
         "0",
         "0",
         "0",
         "0",
         "0",
         "0",
         "0",
         "0",
         "0",
         "0",
         "0",
         "0",
         "0",
         "0",
         "0",
         "218",
         "252",
         "56",
         "0",
         "0",
         "0",
         "0",
         "0",
         "0",
         "0",
         "0",
         "0",
         "0",
         "0",
         "0",
         "0",
         "0",
         "0",
         "0",
         "0",
         "0",
         "0",
         "0",
         "0",
         "0",
         "0",
         "0",
         "0",
         "96",
         "252",
         "189",
         "42",
         "0",
         "0",
         "0",
         "0",
         "0",
         "0",
         "0",
         "0",
         "0",
         "0",
         "0",
         "0",
         "0",
         "0",
         "0",
         "0",
         "0",
         "0",
         "0",
         "0",
         "0",
         "0",
         "0",
         "0",
         "14",
         "184",
         "252",
         "170",
         "11",
         "0",
         "0",
         "0",
         "0",
         "0",
         "0",
         "0",
         "0",
         "0",
         "0",
         "0",
         "0",
         "0",
         "0",
         "0",
         "0",
         "0",
         "0",
         "0",
         "0",
         "0",
         "0",
         "0",
         "0",
         "14",
         "147",
         "252",
         "42",
         "0",
         "0",
         "0",
         "0",
         "0",
         "0",
         "0",
         "0",
         "0",
         "0",
         "0",
         "0",
         "0",
         "0",
         "0",
         "0",
         "0",
         "0",
         "0",
         "0",
         "0",
         "0",
         "0",
         "0",
         "0",
         "0",
         "0",
         "0",
         "0",
         "0",
         "0",
         "0",
         "0",
         "0",
         "0",
         "0",
         "0"
        ]
       ],
       "shape": {
        "columns": 785,
        "rows": 5
       }
      },
      "text/html": [
       "<div>\n",
       "<style scoped>\n",
       "    .dataframe tbody tr th:only-of-type {\n",
       "        vertical-align: middle;\n",
       "    }\n",
       "\n",
       "    .dataframe tbody tr th {\n",
       "        vertical-align: top;\n",
       "    }\n",
       "\n",
       "    .dataframe thead th {\n",
       "        text-align: right;\n",
       "    }\n",
       "</style>\n",
       "<table border=\"1\" class=\"dataframe\">\n",
       "  <thead>\n",
       "    <tr style=\"text-align: right;\">\n",
       "      <th></th>\n",
       "      <th>label</th>\n",
       "      <th>1x1</th>\n",
       "      <th>1x2</th>\n",
       "      <th>1x3</th>\n",
       "      <th>1x4</th>\n",
       "      <th>1x5</th>\n",
       "      <th>1x6</th>\n",
       "      <th>1x7</th>\n",
       "      <th>1x8</th>\n",
       "      <th>1x9</th>\n",
       "      <th>...</th>\n",
       "      <th>28x19</th>\n",
       "      <th>28x20</th>\n",
       "      <th>28x21</th>\n",
       "      <th>28x22</th>\n",
       "      <th>28x23</th>\n",
       "      <th>28x24</th>\n",
       "      <th>28x25</th>\n",
       "      <th>28x26</th>\n",
       "      <th>28x27</th>\n",
       "      <th>28x28</th>\n",
       "    </tr>\n",
       "  </thead>\n",
       "  <tbody>\n",
       "    <tr>\n",
       "      <th>0</th>\n",
       "      <td>5</td>\n",
       "      <td>0</td>\n",
       "      <td>0</td>\n",
       "      <td>0</td>\n",
       "      <td>0</td>\n",
       "      <td>0</td>\n",
       "      <td>0</td>\n",
       "      <td>0</td>\n",
       "      <td>0</td>\n",
       "      <td>0</td>\n",
       "      <td>...</td>\n",
       "      <td>0</td>\n",
       "      <td>0</td>\n",
       "      <td>0</td>\n",
       "      <td>0</td>\n",
       "      <td>0</td>\n",
       "      <td>0</td>\n",
       "      <td>0</td>\n",
       "      <td>0</td>\n",
       "      <td>0</td>\n",
       "      <td>0</td>\n",
       "    </tr>\n",
       "    <tr>\n",
       "      <th>1</th>\n",
       "      <td>0</td>\n",
       "      <td>0</td>\n",
       "      <td>0</td>\n",
       "      <td>0</td>\n",
       "      <td>0</td>\n",
       "      <td>0</td>\n",
       "      <td>0</td>\n",
       "      <td>0</td>\n",
       "      <td>0</td>\n",
       "      <td>0</td>\n",
       "      <td>...</td>\n",
       "      <td>0</td>\n",
       "      <td>0</td>\n",
       "      <td>0</td>\n",
       "      <td>0</td>\n",
       "      <td>0</td>\n",
       "      <td>0</td>\n",
       "      <td>0</td>\n",
       "      <td>0</td>\n",
       "      <td>0</td>\n",
       "      <td>0</td>\n",
       "    </tr>\n",
       "    <tr>\n",
       "      <th>2</th>\n",
       "      <td>4</td>\n",
       "      <td>0</td>\n",
       "      <td>0</td>\n",
       "      <td>0</td>\n",
       "      <td>0</td>\n",
       "      <td>0</td>\n",
       "      <td>0</td>\n",
       "      <td>0</td>\n",
       "      <td>0</td>\n",
       "      <td>0</td>\n",
       "      <td>...</td>\n",
       "      <td>0</td>\n",
       "      <td>0</td>\n",
       "      <td>0</td>\n",
       "      <td>0</td>\n",
       "      <td>0</td>\n",
       "      <td>0</td>\n",
       "      <td>0</td>\n",
       "      <td>0</td>\n",
       "      <td>0</td>\n",
       "      <td>0</td>\n",
       "    </tr>\n",
       "    <tr>\n",
       "      <th>3</th>\n",
       "      <td>1</td>\n",
       "      <td>0</td>\n",
       "      <td>0</td>\n",
       "      <td>0</td>\n",
       "      <td>0</td>\n",
       "      <td>0</td>\n",
       "      <td>0</td>\n",
       "      <td>0</td>\n",
       "      <td>0</td>\n",
       "      <td>0</td>\n",
       "      <td>...</td>\n",
       "      <td>0</td>\n",
       "      <td>0</td>\n",
       "      <td>0</td>\n",
       "      <td>0</td>\n",
       "      <td>0</td>\n",
       "      <td>0</td>\n",
       "      <td>0</td>\n",
       "      <td>0</td>\n",
       "      <td>0</td>\n",
       "      <td>0</td>\n",
       "    </tr>\n",
       "    <tr>\n",
       "      <th>4</th>\n",
       "      <td>9</td>\n",
       "      <td>0</td>\n",
       "      <td>0</td>\n",
       "      <td>0</td>\n",
       "      <td>0</td>\n",
       "      <td>0</td>\n",
       "      <td>0</td>\n",
       "      <td>0</td>\n",
       "      <td>0</td>\n",
       "      <td>0</td>\n",
       "      <td>...</td>\n",
       "      <td>0</td>\n",
       "      <td>0</td>\n",
       "      <td>0</td>\n",
       "      <td>0</td>\n",
       "      <td>0</td>\n",
       "      <td>0</td>\n",
       "      <td>0</td>\n",
       "      <td>0</td>\n",
       "      <td>0</td>\n",
       "      <td>0</td>\n",
       "    </tr>\n",
       "  </tbody>\n",
       "</table>\n",
       "<p>5 rows × 785 columns</p>\n",
       "</div>"
      ],
      "text/plain": [
       "   label  1x1  1x2  1x3  1x4  1x5  1x6  1x7  1x8  1x9  ...  28x19  28x20  \\\n",
       "0      5    0    0    0    0    0    0    0    0    0  ...      0      0   \n",
       "1      0    0    0    0    0    0    0    0    0    0  ...      0      0   \n",
       "2      4    0    0    0    0    0    0    0    0    0  ...      0      0   \n",
       "3      1    0    0    0    0    0    0    0    0    0  ...      0      0   \n",
       "4      9    0    0    0    0    0    0    0    0    0  ...      0      0   \n",
       "\n",
       "   28x21  28x22  28x23  28x24  28x25  28x26  28x27  28x28  \n",
       "0      0      0      0      0      0      0      0      0  \n",
       "1      0      0      0      0      0      0      0      0  \n",
       "2      0      0      0      0      0      0      0      0  \n",
       "3      0      0      0      0      0      0      0      0  \n",
       "4      0      0      0      0      0      0      0      0  \n",
       "\n",
       "[5 rows x 785 columns]"
      ]
     },
     "execution_count": 5,
     "metadata": {},
     "output_type": "execute_result"
    }
   ],
   "source": [
    "\n",
    "# Importing dataset\n",
    "import pandas as pd \n",
    "\n",
    "data = pd.read_csv(\"/media/escanor/extra/programing/5_Sem/Deep_Learning/Assignments/1 ANN From Scratch/mnist/mnist_train.csv\")\n",
    "data.head(5)"
   ]
  },
  {
   "cell_type": "code",
   "execution_count": 7,
   "id": "83451bd9",
   "metadata": {},
   "outputs": [
    {
     "name": "stdout",
     "output_type": "stream",
     "text": [
      "<class 'pandas.core.frame.DataFrame'>\n",
      "RangeIndex: 60000 entries, 0 to 59999\n",
      "Columns: 785 entries, label to 28x28\n",
      "dtypes: int64(785)\n",
      "memory usage: 359.3 MB\n"
     ]
    }
   ],
   "source": [
    "data.info()"
   ]
  },
  {
   "cell_type": "markdown",
   "id": "57a04446",
   "metadata": {},
   "source": [
    "### Neural Network Architecture\n",
    "Your task is to implement an ANN with the following three key layers: \n"
   ]
  },
  {
   "cell_type": "markdown",
   "id": "c892112b",
   "metadata": {},
   "source": [
    "##### 1. Input Layer \n",
    "The input to our network will be a single image from the MNIST dataset. Since each image is \n",
    "28×28 pixels, we need to flatten it into a one-dimensional array of numbers.  \n",
    "●  Number of Neurons: 28×28=784 neurons.  \n",
    "●  Purpose: This layer simply holds the pixel values of the input image. Each neuron corresponds to a single pixel. \n"
   ]
  },
  {
   "cell_type": "code",
   "execution_count": 26,
   "id": "48ada83b",
   "metadata": {},
   "outputs": [
    {
     "name": "stdout",
     "output_type": "stream",
     "text": [
      "(5, 784)\n",
      "[[0 0 0 ... 0 0 0]\n",
      " [0 0 0 ... 0 0 0]\n",
      " [0 0 0 ... 0 0 0]\n",
      " [0 0 0 ... 0 0 0]\n",
      " [0 0 0 ... 0 0 0]]\n"
     ]
    }
   ],
   "source": [
    "# basic exampple \n",
    "import numpy as np\n",
    "\n",
    "dummydata = np.array(data.iloc[:5,1:])\n",
    "print(dummydata.shape)\n",
    "print(dummydata)"
   ]
  },
  {
   "cell_type": "code",
   "execution_count": null,
   "id": "212948b9",
   "metadata": {},
   "outputs": [
    {
     "data": {
      "text/plain": [
       "784"
      ]
     },
     "execution_count": 39,
     "metadata": {},
     "output_type": "execute_result"
    }
   ],
   "source": [
    "n1 = 6\n",
    "input = dummydata.shape[1]\n",
    "input\n",
    "\n"
   ]
  },
  {
   "cell_type": "code",
   "execution_count": null,
   "id": "df440476",
   "metadata": {},
   "outputs": [],
   "source": [
    "def get_input (data) :\n",
    "    pass"
   ]
  },
  {
   "cell_type": "code",
   "execution_count": 6,
   "id": "1032648e",
   "metadata": {},
   "outputs": [],
   "source": [
    "class Neuron:\n",
    "    pass\n",
    "\n",
    "class Layer:\n",
    "    pass"
   ]
  },
  {
   "cell_type": "markdown",
   "id": "0767bf6a",
   "metadata": {},
   "source": [
    "##### 2. Hidden Layer \n",
    "The hidden layer is where the network learns to identify patterns and features from the input data, such as lines, curves, and edges.  \n",
    "●  Number of Neurons: You will use 128 neurons for this layer.  \n",
    "●  Activation Function: The ReLU (Rectified Linear Unit) activation function should \n",
    "be used. It helps the network learn complex relationships in the data.  \n"
   ]
  },
  {
   "cell_type": "markdown",
   "id": "49b59d0c",
   "metadata": {},
   "source": [
    "##### 3. Output Layer \n",
    "The output layer provides the final classification result. Since we are trying to predict one of \n",
    "ten possible digits (0-9), this layer will have ten neurons.  \n",
    "●  Number of Neurons: 10 neurons, one for each digit class (0 through 9).  \n",
    "●  Activation Function: The Softmax activation function should be used. Softmax will \n",
    "convert the outputs into a probability distribution, where the sum of all probabilities is. The neuron with the highest probability corresponds to the predicted digit. \n",
    "●  Loss Function: The Categorical Cross-Entropy loss function is appropriate for this \n",
    "multi-class classification task. \n",
    " "
   ]
  },
  {
   "cell_type": "code",
   "execution_count": null,
   "id": "613e9392",
   "metadata": {},
   "outputs": [],
   "source": []
  }
 ],
 "metadata": {
  "kernelspec": {
   "display_name": "dlclassenv",
   "language": "python",
   "name": "python3"
  },
  "language_info": {
   "codemirror_mode": {
    "name": "ipython",
    "version": 3
   },
   "file_extension": ".py",
   "mimetype": "text/x-python",
   "name": "python",
   "nbconvert_exporter": "python",
   "pygments_lexer": "ipython3",
   "version": "3.10.18"
  }
 },
 "nbformat": 4,
 "nbformat_minor": 5
}
